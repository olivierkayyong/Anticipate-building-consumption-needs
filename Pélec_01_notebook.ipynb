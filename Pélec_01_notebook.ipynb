{
 "cells": [
  {
   "cell_type": "code",
   "execution_count": 115,
   "id": "7d9657e4",
   "metadata": {},
   "outputs": [],
   "source": [
    "import pandas as pd\n",
    "import seaborn as sns\n",
    "import matplotlib.pyplot as plt\n",
    "import numpy as np"
   ]
  },
  {
   "cell_type": "markdown",
   "id": "ad15d539",
   "metadata": {},
   "source": [
    "## Énoncé\n",
    "Travaillant pour la ville de Seattle,nous voulons tenter de prédire les émissions de CO2 et la consommation totale d’énergie des bâtiments non destinés à l’habitation.\n",
    "\n",
    "## Mission\n",
    "Nous allons réaliser dans un premier temps un nettoyage et une courte analyse exploratoire des données de consommation ."
   ]
  },
  {
   "cell_type": "markdown",
   "id": "c7bbb654",
   "metadata": {},
   "source": [
    "## Nettoyage du jeu de données"
   ]
  },
  {
   "cell_type": "markdown",
   "id": "04c66476",
   "metadata": {},
   "source": [
    "Lecture du jeu des données de 2015:"
   ]
  },
  {
   "cell_type": "code",
   "execution_count": 116,
   "id": "ca79f24a",
   "metadata": {},
   "outputs": [],
   "source": [
    "df_conso_2015 = pd.read_csv('2015-building-energy-benchmarking.csv')"
   ]
  },
  {
   "cell_type": "markdown",
   "id": "19ef5412",
   "metadata": {},
   "source": [
    "Un aperçu du jeu de données:"
   ]
  },
  {
   "cell_type": "code",
   "execution_count": 117,
   "id": "b7d9d78f",
   "metadata": {},
   "outputs": [
    {
     "data": {
      "text/html": [
       "<div>\n",
       "<style scoped>\n",
       "    .dataframe tbody tr th:only-of-type {\n",
       "        vertical-align: middle;\n",
       "    }\n",
       "\n",
       "    .dataframe tbody tr th {\n",
       "        vertical-align: top;\n",
       "    }\n",
       "\n",
       "    .dataframe thead th {\n",
       "        text-align: right;\n",
       "    }\n",
       "</style>\n",
       "<table border=\"1\" class=\"dataframe\">\n",
       "  <thead>\n",
       "    <tr style=\"text-align: right;\">\n",
       "      <th></th>\n",
       "      <th>OSEBuildingID</th>\n",
       "      <th>DataYear</th>\n",
       "      <th>BuildingType</th>\n",
       "      <th>PrimaryPropertyType</th>\n",
       "      <th>PropertyName</th>\n",
       "      <th>TaxParcelIdentificationNumber</th>\n",
       "      <th>Location</th>\n",
       "      <th>CouncilDistrictCode</th>\n",
       "      <th>Neighborhood</th>\n",
       "      <th>YearBuilt</th>\n",
       "      <th>...</th>\n",
       "      <th>GHGEmissionsIntensity(kgCO2e/ft2)</th>\n",
       "      <th>DefaultData</th>\n",
       "      <th>Comment</th>\n",
       "      <th>ComplianceStatus</th>\n",
       "      <th>Outlier</th>\n",
       "      <th>2010 Census Tracts</th>\n",
       "      <th>Seattle Police Department Micro Community Policing Plan Areas</th>\n",
       "      <th>City Council Districts</th>\n",
       "      <th>SPD Beats</th>\n",
       "      <th>Zip Codes</th>\n",
       "    </tr>\n",
       "  </thead>\n",
       "  <tbody>\n",
       "    <tr>\n",
       "      <th>0</th>\n",
       "      <td>1</td>\n",
       "      <td>2015</td>\n",
       "      <td>NonResidential</td>\n",
       "      <td>Hotel</td>\n",
       "      <td>MAYFLOWER PARK HOTEL</td>\n",
       "      <td>659000030</td>\n",
       "      <td>{'latitude': '47.61219025', 'longitude': '-122...</td>\n",
       "      <td>7</td>\n",
       "      <td>DOWNTOWN</td>\n",
       "      <td>1927</td>\n",
       "      <td>...</td>\n",
       "      <td>2.64</td>\n",
       "      <td>No</td>\n",
       "      <td>NaN</td>\n",
       "      <td>Compliant</td>\n",
       "      <td>NaN</td>\n",
       "      <td>NaN</td>\n",
       "      <td>14.0</td>\n",
       "      <td>NaN</td>\n",
       "      <td>31.0</td>\n",
       "      <td>18081</td>\n",
       "    </tr>\n",
       "    <tr>\n",
       "      <th>1</th>\n",
       "      <td>2</td>\n",
       "      <td>2015</td>\n",
       "      <td>NonResidential</td>\n",
       "      <td>Hotel</td>\n",
       "      <td>PARAMOUNT HOTEL</td>\n",
       "      <td>659000220</td>\n",
       "      <td>{'latitude': '47.61310583', 'longitude': '-122...</td>\n",
       "      <td>7</td>\n",
       "      <td>DOWNTOWN</td>\n",
       "      <td>1996</td>\n",
       "      <td>...</td>\n",
       "      <td>2.38</td>\n",
       "      <td>No</td>\n",
       "      <td>NaN</td>\n",
       "      <td>Compliant</td>\n",
       "      <td>NaN</td>\n",
       "      <td>NaN</td>\n",
       "      <td>14.0</td>\n",
       "      <td>NaN</td>\n",
       "      <td>31.0</td>\n",
       "      <td>18081</td>\n",
       "    </tr>\n",
       "    <tr>\n",
       "      <th>2</th>\n",
       "      <td>3</td>\n",
       "      <td>2015</td>\n",
       "      <td>NonResidential</td>\n",
       "      <td>Hotel</td>\n",
       "      <td>WESTIN HOTEL</td>\n",
       "      <td>659000475</td>\n",
       "      <td>{'latitude': '47.61334897', 'longitude': '-122...</td>\n",
       "      <td>7</td>\n",
       "      <td>DOWNTOWN</td>\n",
       "      <td>1969</td>\n",
       "      <td>...</td>\n",
       "      <td>1.92</td>\n",
       "      <td>Yes</td>\n",
       "      <td>NaN</td>\n",
       "      <td>Compliant</td>\n",
       "      <td>NaN</td>\n",
       "      <td>NaN</td>\n",
       "      <td>56.0</td>\n",
       "      <td>NaN</td>\n",
       "      <td>31.0</td>\n",
       "      <td>18081</td>\n",
       "    </tr>\n",
       "    <tr>\n",
       "      <th>3</th>\n",
       "      <td>5</td>\n",
       "      <td>2015</td>\n",
       "      <td>NonResidential</td>\n",
       "      <td>Hotel</td>\n",
       "      <td>HOTEL MAX</td>\n",
       "      <td>659000640</td>\n",
       "      <td>{'latitude': '47.61421585', 'longitude': '-122...</td>\n",
       "      <td>7</td>\n",
       "      <td>DOWNTOWN</td>\n",
       "      <td>1926</td>\n",
       "      <td>...</td>\n",
       "      <td>31.38</td>\n",
       "      <td>No</td>\n",
       "      <td>NaN</td>\n",
       "      <td>Compliant</td>\n",
       "      <td>High Outlier</td>\n",
       "      <td>NaN</td>\n",
       "      <td>56.0</td>\n",
       "      <td>NaN</td>\n",
       "      <td>31.0</td>\n",
       "      <td>18081</td>\n",
       "    </tr>\n",
       "    <tr>\n",
       "      <th>4</th>\n",
       "      <td>8</td>\n",
       "      <td>2015</td>\n",
       "      <td>NonResidential</td>\n",
       "      <td>Hotel</td>\n",
       "      <td>WARWICK SEATTLE HOTEL</td>\n",
       "      <td>659000970</td>\n",
       "      <td>{'latitude': '47.6137544', 'longitude': '-122....</td>\n",
       "      <td>7</td>\n",
       "      <td>DOWNTOWN</td>\n",
       "      <td>1980</td>\n",
       "      <td>...</td>\n",
       "      <td>4.02</td>\n",
       "      <td>No</td>\n",
       "      <td>NaN</td>\n",
       "      <td>Compliant</td>\n",
       "      <td>NaN</td>\n",
       "      <td>NaN</td>\n",
       "      <td>56.0</td>\n",
       "      <td>NaN</td>\n",
       "      <td>31.0</td>\n",
       "      <td>19576</td>\n",
       "    </tr>\n",
       "  </tbody>\n",
       "</table>\n",
       "<p>5 rows × 47 columns</p>\n",
       "</div>"
      ],
      "text/plain": [
       "   OSEBuildingID  DataYear    BuildingType PrimaryPropertyType  \\\n",
       "0              1      2015  NonResidential               Hotel   \n",
       "1              2      2015  NonResidential               Hotel   \n",
       "2              3      2015  NonResidential               Hotel   \n",
       "3              5      2015  NonResidential               Hotel   \n",
       "4              8      2015  NonResidential               Hotel   \n",
       "\n",
       "            PropertyName TaxParcelIdentificationNumber  \\\n",
       "0   MAYFLOWER PARK HOTEL                     659000030   \n",
       "1        PARAMOUNT HOTEL                     659000220   \n",
       "2           WESTIN HOTEL                     659000475   \n",
       "3              HOTEL MAX                     659000640   \n",
       "4  WARWICK SEATTLE HOTEL                     659000970   \n",
       "\n",
       "                                            Location  CouncilDistrictCode  \\\n",
       "0  {'latitude': '47.61219025', 'longitude': '-122...                    7   \n",
       "1  {'latitude': '47.61310583', 'longitude': '-122...                    7   \n",
       "2  {'latitude': '47.61334897', 'longitude': '-122...                    7   \n",
       "3  {'latitude': '47.61421585', 'longitude': '-122...                    7   \n",
       "4  {'latitude': '47.6137544', 'longitude': '-122....                    7   \n",
       "\n",
       "  Neighborhood  YearBuilt  ...  GHGEmissionsIntensity(kgCO2e/ft2)  \\\n",
       "0     DOWNTOWN       1927  ...                               2.64   \n",
       "1     DOWNTOWN       1996  ...                               2.38   \n",
       "2     DOWNTOWN       1969  ...                               1.92   \n",
       "3     DOWNTOWN       1926  ...                              31.38   \n",
       "4     DOWNTOWN       1980  ...                               4.02   \n",
       "\n",
       "   DefaultData  Comment  ComplianceStatus       Outlier 2010 Census Tracts  \\\n",
       "0           No      NaN         Compliant           NaN                NaN   \n",
       "1           No      NaN         Compliant           NaN                NaN   \n",
       "2          Yes      NaN         Compliant           NaN                NaN   \n",
       "3           No      NaN         Compliant  High Outlier                NaN   \n",
       "4           No      NaN         Compliant           NaN                NaN   \n",
       "\n",
       "  Seattle Police Department Micro Community Policing Plan Areas  \\\n",
       "0                                               14.0              \n",
       "1                                               14.0              \n",
       "2                                               56.0              \n",
       "3                                               56.0              \n",
       "4                                               56.0              \n",
       "\n",
       "   City Council Districts SPD Beats  Zip Codes  \n",
       "0                     NaN      31.0      18081  \n",
       "1                     NaN      31.0      18081  \n",
       "2                     NaN      31.0      18081  \n",
       "3                     NaN      31.0      18081  \n",
       "4                     NaN      31.0      19576  \n",
       "\n",
       "[5 rows x 47 columns]"
      ]
     },
     "execution_count": 117,
     "metadata": {},
     "output_type": "execute_result"
    }
   ],
   "source": [
    "df_conso_2015.head()"
   ]
  },
  {
   "cell_type": "markdown",
   "id": "9347a893",
   "metadata": {},
   "source": [
    "Vérifions s'il existe des doublons sur l'identifiant des bâtiments:"
   ]
  },
  {
   "cell_type": "code",
   "execution_count": 118,
   "id": "c3223ba5",
   "metadata": {},
   "outputs": [
    {
     "data": {
      "text/plain": [
       "0"
      ]
     },
     "execution_count": 118,
     "metadata": {},
     "output_type": "execute_result"
    }
   ],
   "source": [
    "df_conso_2015.duplicated('OSEBuildingID').sum()"
   ]
  },
  {
   "cell_type": "markdown",
   "id": "97969e56",
   "metadata": {},
   "source": [
    "Sa taille:"
   ]
  },
  {
   "cell_type": "code",
   "execution_count": 119,
   "id": "24385629",
   "metadata": {},
   "outputs": [
    {
     "name": "stdout",
     "output_type": "stream",
     "text": [
      "Le jeu des données de 2015 compte 3340 lignes et 47 variables\n"
     ]
    }
   ],
   "source": [
    "print (\"Le jeu des données de 2015 compte {} lignes et {} variables\".format(df_conso_2015.shape[0], df_conso_2015.shape[1]))"
   ]
  },
  {
   "cell_type": "markdown",
   "id": "e5324323",
   "metadata": {},
   "source": [
    "Lecture du jeu des données de 2016:"
   ]
  },
  {
   "cell_type": "code",
   "execution_count": 120,
   "id": "b741f54d",
   "metadata": {},
   "outputs": [],
   "source": [
    "df_conso_2016 = pd.read_csv('2016-building-energy-benchmarking.csv')"
   ]
  },
  {
   "cell_type": "markdown",
   "id": "46f321be",
   "metadata": {},
   "source": [
    "Un aperçu du jeu de données:"
   ]
  },
  {
   "cell_type": "code",
   "execution_count": 121,
   "id": "f3fb9f29",
   "metadata": {},
   "outputs": [
    {
     "data": {
      "text/html": [
       "<div>\n",
       "<style scoped>\n",
       "    .dataframe tbody tr th:only-of-type {\n",
       "        vertical-align: middle;\n",
       "    }\n",
       "\n",
       "    .dataframe tbody tr th {\n",
       "        vertical-align: top;\n",
       "    }\n",
       "\n",
       "    .dataframe thead th {\n",
       "        text-align: right;\n",
       "    }\n",
       "</style>\n",
       "<table border=\"1\" class=\"dataframe\">\n",
       "  <thead>\n",
       "    <tr style=\"text-align: right;\">\n",
       "      <th></th>\n",
       "      <th>OSEBuildingID</th>\n",
       "      <th>DataYear</th>\n",
       "      <th>BuildingType</th>\n",
       "      <th>PrimaryPropertyType</th>\n",
       "      <th>PropertyName</th>\n",
       "      <th>Address</th>\n",
       "      <th>City</th>\n",
       "      <th>State</th>\n",
       "      <th>ZipCode</th>\n",
       "      <th>TaxParcelIdentificationNumber</th>\n",
       "      <th>...</th>\n",
       "      <th>Electricity(kWh)</th>\n",
       "      <th>Electricity(kBtu)</th>\n",
       "      <th>NaturalGas(therms)</th>\n",
       "      <th>NaturalGas(kBtu)</th>\n",
       "      <th>DefaultData</th>\n",
       "      <th>Comments</th>\n",
       "      <th>ComplianceStatus</th>\n",
       "      <th>Outlier</th>\n",
       "      <th>TotalGHGEmissions</th>\n",
       "      <th>GHGEmissionsIntensity</th>\n",
       "    </tr>\n",
       "  </thead>\n",
       "  <tbody>\n",
       "    <tr>\n",
       "      <th>0</th>\n",
       "      <td>1</td>\n",
       "      <td>2016</td>\n",
       "      <td>NonResidential</td>\n",
       "      <td>Hotel</td>\n",
       "      <td>Mayflower park hotel</td>\n",
       "      <td>405 Olive way</td>\n",
       "      <td>Seattle</td>\n",
       "      <td>WA</td>\n",
       "      <td>98101.0</td>\n",
       "      <td>0659000030</td>\n",
       "      <td>...</td>\n",
       "      <td>1.156514e+06</td>\n",
       "      <td>3946027.0</td>\n",
       "      <td>12764.52930</td>\n",
       "      <td>1276453.0</td>\n",
       "      <td>False</td>\n",
       "      <td>NaN</td>\n",
       "      <td>Compliant</td>\n",
       "      <td>NaN</td>\n",
       "      <td>249.98</td>\n",
       "      <td>2.83</td>\n",
       "    </tr>\n",
       "    <tr>\n",
       "      <th>1</th>\n",
       "      <td>2</td>\n",
       "      <td>2016</td>\n",
       "      <td>NonResidential</td>\n",
       "      <td>Hotel</td>\n",
       "      <td>Paramount Hotel</td>\n",
       "      <td>724 Pine street</td>\n",
       "      <td>Seattle</td>\n",
       "      <td>WA</td>\n",
       "      <td>98101.0</td>\n",
       "      <td>0659000220</td>\n",
       "      <td>...</td>\n",
       "      <td>9.504252e+05</td>\n",
       "      <td>3242851.0</td>\n",
       "      <td>51450.81641</td>\n",
       "      <td>5145082.0</td>\n",
       "      <td>False</td>\n",
       "      <td>NaN</td>\n",
       "      <td>Compliant</td>\n",
       "      <td>NaN</td>\n",
       "      <td>295.86</td>\n",
       "      <td>2.86</td>\n",
       "    </tr>\n",
       "    <tr>\n",
       "      <th>2</th>\n",
       "      <td>3</td>\n",
       "      <td>2016</td>\n",
       "      <td>NonResidential</td>\n",
       "      <td>Hotel</td>\n",
       "      <td>5673-The Westin Seattle</td>\n",
       "      <td>1900 5th Avenue</td>\n",
       "      <td>Seattle</td>\n",
       "      <td>WA</td>\n",
       "      <td>98101.0</td>\n",
       "      <td>0659000475</td>\n",
       "      <td>...</td>\n",
       "      <td>1.451544e+07</td>\n",
       "      <td>49526664.0</td>\n",
       "      <td>14938.00000</td>\n",
       "      <td>1493800.0</td>\n",
       "      <td>False</td>\n",
       "      <td>NaN</td>\n",
       "      <td>Compliant</td>\n",
       "      <td>NaN</td>\n",
       "      <td>2089.28</td>\n",
       "      <td>2.19</td>\n",
       "    </tr>\n",
       "    <tr>\n",
       "      <th>3</th>\n",
       "      <td>5</td>\n",
       "      <td>2016</td>\n",
       "      <td>NonResidential</td>\n",
       "      <td>Hotel</td>\n",
       "      <td>HOTEL MAX</td>\n",
       "      <td>620 STEWART ST</td>\n",
       "      <td>Seattle</td>\n",
       "      <td>WA</td>\n",
       "      <td>98101.0</td>\n",
       "      <td>0659000640</td>\n",
       "      <td>...</td>\n",
       "      <td>8.115253e+05</td>\n",
       "      <td>2768924.0</td>\n",
       "      <td>18112.13086</td>\n",
       "      <td>1811213.0</td>\n",
       "      <td>False</td>\n",
       "      <td>NaN</td>\n",
       "      <td>Compliant</td>\n",
       "      <td>NaN</td>\n",
       "      <td>286.43</td>\n",
       "      <td>4.67</td>\n",
       "    </tr>\n",
       "    <tr>\n",
       "      <th>4</th>\n",
       "      <td>8</td>\n",
       "      <td>2016</td>\n",
       "      <td>NonResidential</td>\n",
       "      <td>Hotel</td>\n",
       "      <td>WARWICK SEATTLE HOTEL (ID8)</td>\n",
       "      <td>401 LENORA ST</td>\n",
       "      <td>Seattle</td>\n",
       "      <td>WA</td>\n",
       "      <td>98121.0</td>\n",
       "      <td>0659000970</td>\n",
       "      <td>...</td>\n",
       "      <td>1.573449e+06</td>\n",
       "      <td>5368607.0</td>\n",
       "      <td>88039.98438</td>\n",
       "      <td>8803998.0</td>\n",
       "      <td>False</td>\n",
       "      <td>NaN</td>\n",
       "      <td>Compliant</td>\n",
       "      <td>NaN</td>\n",
       "      <td>505.01</td>\n",
       "      <td>2.88</td>\n",
       "    </tr>\n",
       "  </tbody>\n",
       "</table>\n",
       "<p>5 rows × 46 columns</p>\n",
       "</div>"
      ],
      "text/plain": [
       "   OSEBuildingID  DataYear    BuildingType PrimaryPropertyType  \\\n",
       "0              1      2016  NonResidential               Hotel   \n",
       "1              2      2016  NonResidential               Hotel   \n",
       "2              3      2016  NonResidential               Hotel   \n",
       "3              5      2016  NonResidential               Hotel   \n",
       "4              8      2016  NonResidential               Hotel   \n",
       "\n",
       "                  PropertyName          Address     City State  ZipCode  \\\n",
       "0         Mayflower park hotel    405 Olive way  Seattle    WA  98101.0   \n",
       "1              Paramount Hotel  724 Pine street  Seattle    WA  98101.0   \n",
       "2      5673-The Westin Seattle  1900 5th Avenue  Seattle    WA  98101.0   \n",
       "3                    HOTEL MAX   620 STEWART ST  Seattle    WA  98101.0   \n",
       "4  WARWICK SEATTLE HOTEL (ID8)    401 LENORA ST  Seattle    WA  98121.0   \n",
       "\n",
       "  TaxParcelIdentificationNumber  ...  Electricity(kWh) Electricity(kBtu)  \\\n",
       "0                    0659000030  ...      1.156514e+06         3946027.0   \n",
       "1                    0659000220  ...      9.504252e+05         3242851.0   \n",
       "2                    0659000475  ...      1.451544e+07        49526664.0   \n",
       "3                    0659000640  ...      8.115253e+05         2768924.0   \n",
       "4                    0659000970  ...      1.573449e+06         5368607.0   \n",
       "\n",
       "   NaturalGas(therms)  NaturalGas(kBtu)  DefaultData  Comments  \\\n",
       "0         12764.52930         1276453.0        False       NaN   \n",
       "1         51450.81641         5145082.0        False       NaN   \n",
       "2         14938.00000         1493800.0        False       NaN   \n",
       "3         18112.13086         1811213.0        False       NaN   \n",
       "4         88039.98438         8803998.0        False       NaN   \n",
       "\n",
       "   ComplianceStatus  Outlier  TotalGHGEmissions  GHGEmissionsIntensity  \n",
       "0         Compliant      NaN             249.98                   2.83  \n",
       "1         Compliant      NaN             295.86                   2.86  \n",
       "2         Compliant      NaN            2089.28                   2.19  \n",
       "3         Compliant      NaN             286.43                   4.67  \n",
       "4         Compliant      NaN             505.01                   2.88  \n",
       "\n",
       "[5 rows x 46 columns]"
      ]
     },
     "execution_count": 121,
     "metadata": {},
     "output_type": "execute_result"
    }
   ],
   "source": [
    "df_conso_2016.head()"
   ]
  },
  {
   "cell_type": "markdown",
   "id": "0c48214f",
   "metadata": {},
   "source": [
    "Vérifions s'il existe des doublons sur l'identifiant des bâtiments:"
   ]
  },
  {
   "cell_type": "code",
   "execution_count": 122,
   "id": "58894bd6",
   "metadata": {},
   "outputs": [
    {
     "data": {
      "text/plain": [
       "0"
      ]
     },
     "execution_count": 122,
     "metadata": {},
     "output_type": "execute_result"
    }
   ],
   "source": [
    "df_conso_2016.duplicated('OSEBuildingID').sum()"
   ]
  },
  {
   "cell_type": "markdown",
   "id": "d31aaa52",
   "metadata": {},
   "source": [
    "Sa taille:"
   ]
  },
  {
   "cell_type": "code",
   "execution_count": 123,
   "id": "d8d88547",
   "metadata": {},
   "outputs": [
    {
     "name": "stdout",
     "output_type": "stream",
     "text": [
      "Le jeu des données de 2016 compte 3376 lignes et 46 variables\n"
     ]
    }
   ],
   "source": [
    "print (\"Le jeu des données de 2016 compte {} lignes et {} variables\".format(df_conso_2016.shape[0], df_conso_2016.shape[1]))"
   ]
  },
  {
   "cell_type": "markdown",
   "id": "7be6e6da",
   "metadata": {},
   "source": [
    "Listons les variables des deux jeux de données:"
   ]
  },
  {
   "cell_type": "code",
   "execution_count": 124,
   "id": "b763cd18",
   "metadata": {},
   "outputs": [
    {
     "data": {
      "text/plain": [
       "Index(['OSEBuildingID', 'DataYear', 'BuildingType', 'PrimaryPropertyType',\n",
       "       'PropertyName', 'TaxParcelIdentificationNumber', 'Location',\n",
       "       'CouncilDistrictCode', 'Neighborhood', 'YearBuilt', 'NumberofBuildings',\n",
       "       'NumberofFloors', 'PropertyGFATotal', 'PropertyGFAParking',\n",
       "       'PropertyGFABuilding(s)', 'ListOfAllPropertyUseTypes',\n",
       "       'LargestPropertyUseType', 'LargestPropertyUseTypeGFA',\n",
       "       'SecondLargestPropertyUseType', 'SecondLargestPropertyUseTypeGFA',\n",
       "       'ThirdLargestPropertyUseType', 'ThirdLargestPropertyUseTypeGFA',\n",
       "       'YearsENERGYSTARCertified', 'ENERGYSTARScore', 'SiteEUI(kBtu/sf)',\n",
       "       'SiteEUIWN(kBtu/sf)', 'SourceEUI(kBtu/sf)', 'SourceEUIWN(kBtu/sf)',\n",
       "       'SiteEnergyUse(kBtu)', 'SiteEnergyUseWN(kBtu)', 'SteamUse(kBtu)',\n",
       "       'Electricity(kWh)', 'Electricity(kBtu)', 'NaturalGas(therms)',\n",
       "       'NaturalGas(kBtu)', 'OtherFuelUse(kBtu)',\n",
       "       'GHGEmissions(MetricTonsCO2e)', 'GHGEmissionsIntensity(kgCO2e/ft2)',\n",
       "       'DefaultData', 'Comment', 'ComplianceStatus', 'Outlier',\n",
       "       '2010 Census Tracts',\n",
       "       'Seattle Police Department Micro Community Policing Plan Areas',\n",
       "       'City Council Districts', 'SPD Beats', 'Zip Codes'],\n",
       "      dtype='object')"
      ]
     },
     "execution_count": 124,
     "metadata": {},
     "output_type": "execute_result"
    }
   ],
   "source": [
    "df_conso_2015.columns"
   ]
  },
  {
   "cell_type": "code",
   "execution_count": 125,
   "id": "509888d5",
   "metadata": {},
   "outputs": [
    {
     "data": {
      "text/plain": [
       "Index(['OSEBuildingID', 'DataYear', 'BuildingType', 'PrimaryPropertyType',\n",
       "       'PropertyName', 'Address', 'City', 'State', 'ZipCode',\n",
       "       'TaxParcelIdentificationNumber', 'CouncilDistrictCode', 'Neighborhood',\n",
       "       'Latitude', 'Longitude', 'YearBuilt', 'NumberofBuildings',\n",
       "       'NumberofFloors', 'PropertyGFATotal', 'PropertyGFAParking',\n",
       "       'PropertyGFABuilding(s)', 'ListOfAllPropertyUseTypes',\n",
       "       'LargestPropertyUseType', 'LargestPropertyUseTypeGFA',\n",
       "       'SecondLargestPropertyUseType', 'SecondLargestPropertyUseTypeGFA',\n",
       "       'ThirdLargestPropertyUseType', 'ThirdLargestPropertyUseTypeGFA',\n",
       "       'YearsENERGYSTARCertified', 'ENERGYSTARScore', 'SiteEUI(kBtu/sf)',\n",
       "       'SiteEUIWN(kBtu/sf)', 'SourceEUI(kBtu/sf)', 'SourceEUIWN(kBtu/sf)',\n",
       "       'SiteEnergyUse(kBtu)', 'SiteEnergyUseWN(kBtu)', 'SteamUse(kBtu)',\n",
       "       'Electricity(kWh)', 'Electricity(kBtu)', 'NaturalGas(therms)',\n",
       "       'NaturalGas(kBtu)', 'DefaultData', 'Comments', 'ComplianceStatus',\n",
       "       'Outlier', 'TotalGHGEmissions', 'GHGEmissionsIntensity'],\n",
       "      dtype='object')"
      ]
     },
     "execution_count": 125,
     "metadata": {},
     "output_type": "execute_result"
    }
   ],
   "source": [
    "df_conso_2016.columns"
   ]
  },
  {
   "cell_type": "markdown",
   "id": "317314ea",
   "metadata": {},
   "source": [
    "Définissons une fonction qui détecte les différences entre les variables des deux jeu de données:"
   ]
  },
  {
   "cell_type": "code",
   "execution_count": 126,
   "id": "95b84cea",
   "metadata": {},
   "outputs": [],
   "source": [
    "def var_non_communes(df1,df2):\n",
    "    liste=[]\n",
    "    for i in range( len(df1.columns)):\n",
    "        if df1.columns[i] not in df2.columns:\n",
    "            liste.append(df1.columns[i])\n",
    "    return liste"
   ]
  },
  {
   "cell_type": "markdown",
   "id": "5e8b4ceb",
   "metadata": {},
   "source": [
    "Analysons les différences des variables dans les deux jeux de données:"
   ]
  },
  {
   "cell_type": "code",
   "execution_count": 127,
   "id": "d36b715c",
   "metadata": {},
   "outputs": [
    {
     "name": "stdout",
     "output_type": "stream",
     "text": [
      "Les variables présentes dans les données 2015 et absentes dans celles de 2016 sont :\n"
     ]
    },
    {
     "data": {
      "text/plain": [
       "['Location',\n",
       " 'OtherFuelUse(kBtu)',\n",
       " 'GHGEmissions(MetricTonsCO2e)',\n",
       " 'GHGEmissionsIntensity(kgCO2e/ft2)',\n",
       " 'Comment',\n",
       " '2010 Census Tracts',\n",
       " 'Seattle Police Department Micro Community Policing Plan Areas',\n",
       " 'City Council Districts',\n",
       " 'SPD Beats',\n",
       " 'Zip Codes']"
      ]
     },
     "execution_count": 127,
     "metadata": {},
     "output_type": "execute_result"
    }
   ],
   "source": [
    "liste=var_non_communes(df_conso_2015,df_conso_2016)\n",
    "print(\"Les variables présentes dans les données 2015 et absentes dans celles de 2016 sont :\")\n",
    "liste"
   ]
  },
  {
   "cell_type": "markdown",
   "id": "c29c7da0",
   "metadata": {},
   "source": [
    "Analysons les différences des variables dans les deux jeux de données:"
   ]
  },
  {
   "cell_type": "code",
   "execution_count": 128,
   "id": "47ee27fb",
   "metadata": {},
   "outputs": [
    {
     "name": "stdout",
     "output_type": "stream",
     "text": [
      "Les variables présentes dans les données 2016 et absentes dans celles de 2015 sont :\n"
     ]
    },
    {
     "data": {
      "text/plain": [
       "['Address',\n",
       " 'City',\n",
       " 'State',\n",
       " 'ZipCode',\n",
       " 'Latitude',\n",
       " 'Longitude',\n",
       " 'Comments',\n",
       " 'TotalGHGEmissions',\n",
       " 'GHGEmissionsIntensity']"
      ]
     },
     "execution_count": 128,
     "metadata": {},
     "output_type": "execute_result"
    }
   ],
   "source": [
    "liste=var_non_communes(df_conso_2016,df_conso_2015)\n",
    "print(\"Les variables présentes dans les données 2016 et absentes dans celles de 2015 sont :\")\n",
    "liste"
   ]
  },
  {
   "cell_type": "markdown",
   "id": "a4b08ec4",
   "metadata": {},
   "source": [
    "###  Variable 'location'"
   ]
  },
  {
   "cell_type": "markdown",
   "id": "c7984b6e",
   "metadata": {},
   "source": [
    "Un aperçu de la variable location:"
   ]
  },
  {
   "cell_type": "code",
   "execution_count": 129,
   "id": "e08e2589",
   "metadata": {},
   "outputs": [
    {
     "data": {
      "text/plain": [
       "'{\\'latitude\\': \\'47.61219025\\', \\'longitude\\': \\'-122.33799744\\', \\'human_address\\': \\'{\"address\": \"405 OLIVE WAY\", \"city\": \"SEATTLE\", \"state\": \"WA\", \"zip\": \"98101\"}\\'}'"
      ]
     },
     "execution_count": 129,
     "metadata": {},
     "output_type": "execute_result"
    }
   ],
   "source": [
    "df_conso_2015['Location'][0]\n"
   ]
  },
  {
   "cell_type": "markdown",
   "id": "410ace94",
   "metadata": {},
   "source": [
    "Affichons ces features dans les données de 2016:"
   ]
  },
  {
   "cell_type": "code",
   "execution_count": 130,
   "id": "db2c53d5",
   "metadata": {},
   "outputs": [
    {
     "data": {
      "text/html": [
       "<div>\n",
       "<style scoped>\n",
       "    .dataframe tbody tr th:only-of-type {\n",
       "        vertical-align: middle;\n",
       "    }\n",
       "\n",
       "    .dataframe tbody tr th {\n",
       "        vertical-align: top;\n",
       "    }\n",
       "\n",
       "    .dataframe thead th {\n",
       "        text-align: right;\n",
       "    }\n",
       "</style>\n",
       "<table border=\"1\" class=\"dataframe\">\n",
       "  <thead>\n",
       "    <tr style=\"text-align: right;\">\n",
       "      <th></th>\n",
       "      <th>Address</th>\n",
       "      <th>City</th>\n",
       "      <th>State</th>\n",
       "      <th>ZipCode</th>\n",
       "      <th>Latitude</th>\n",
       "      <th>Longitude</th>\n",
       "    </tr>\n",
       "  </thead>\n",
       "  <tbody>\n",
       "    <tr>\n",
       "      <th>0</th>\n",
       "      <td>405 Olive way</td>\n",
       "      <td>Seattle</td>\n",
       "      <td>WA</td>\n",
       "      <td>98101.0</td>\n",
       "      <td>47.61220</td>\n",
       "      <td>-122.33799</td>\n",
       "    </tr>\n",
       "    <tr>\n",
       "      <th>1</th>\n",
       "      <td>724 Pine street</td>\n",
       "      <td>Seattle</td>\n",
       "      <td>WA</td>\n",
       "      <td>98101.0</td>\n",
       "      <td>47.61317</td>\n",
       "      <td>-122.33393</td>\n",
       "    </tr>\n",
       "    <tr>\n",
       "      <th>2</th>\n",
       "      <td>1900 5th Avenue</td>\n",
       "      <td>Seattle</td>\n",
       "      <td>WA</td>\n",
       "      <td>98101.0</td>\n",
       "      <td>47.61393</td>\n",
       "      <td>-122.33810</td>\n",
       "    </tr>\n",
       "    <tr>\n",
       "      <th>3</th>\n",
       "      <td>620 STEWART ST</td>\n",
       "      <td>Seattle</td>\n",
       "      <td>WA</td>\n",
       "      <td>98101.0</td>\n",
       "      <td>47.61412</td>\n",
       "      <td>-122.33664</td>\n",
       "    </tr>\n",
       "    <tr>\n",
       "      <th>4</th>\n",
       "      <td>401 LENORA ST</td>\n",
       "      <td>Seattle</td>\n",
       "      <td>WA</td>\n",
       "      <td>98121.0</td>\n",
       "      <td>47.61375</td>\n",
       "      <td>-122.34047</td>\n",
       "    </tr>\n",
       "  </tbody>\n",
       "</table>\n",
       "</div>"
      ],
      "text/plain": [
       "           Address     City State  ZipCode  Latitude  Longitude\n",
       "0    405 Olive way  Seattle    WA  98101.0  47.61220 -122.33799\n",
       "1  724 Pine street  Seattle    WA  98101.0  47.61317 -122.33393\n",
       "2  1900 5th Avenue  Seattle    WA  98101.0  47.61393 -122.33810\n",
       "3   620 STEWART ST  Seattle    WA  98101.0  47.61412 -122.33664\n",
       "4    401 LENORA ST  Seattle    WA  98121.0  47.61375 -122.34047"
      ]
     },
     "execution_count": 130,
     "metadata": {},
     "output_type": "execute_result"
    }
   ],
   "source": [
    "df_conso_2016[['Address','City','State','ZipCode','Latitude','Longitude']].head()"
   ]
  },
  {
   "cell_type": "markdown",
   "id": "611f1925",
   "metadata": {},
   "source": [
    "Les informantions contenues dans la variable location  sont présentes dans les données de 2016 sous plusieurs variables.\n",
    "\n",
    "Nous allons donc séparer les informations contenus dans la variable location:"
   ]
  },
  {
   "cell_type": "code",
   "execution_count": 131,
   "id": "aef4ff73",
   "metadata": {},
   "outputs": [],
   "source": [
    "import ast\n",
    "df_conso_2015['Location'] = [ast.literal_eval(str(item)) for index, item in df_conso_2015.Location.iteritems()]\n",
    "df_conso_2015 = pd.concat([df_conso_2015.drop(['Location'], axis=1), df_conso_2015['Location'].apply(pd.Series)], axis=1)\n",
    "df_conso_2015['human_address'] = [ast.literal_eval(str(item)) for index, item in df_conso_2015.human_address.iteritems()]\n",
    "df_conso_2015 = pd.concat([df_conso_2015.drop(['human_address'], axis=1), df_conso_2015['human_address'].apply(pd.Series)], axis=1)"
   ]
  },
  {
   "cell_type": "markdown",
   "id": "9db1fff5",
   "metadata": {},
   "source": [
    "Renommons les variables identiques mais sous des formatage différents comme par exemple 'address' et 'Address' :"
   ]
  },
  {
   "cell_type": "code",
   "execution_count": 132,
   "id": "23987995",
   "metadata": {},
   "outputs": [],
   "source": [
    "df_conso_2015 = df_conso_2015.rename(columns={\"latitude\":\"Latitude\", \n",
    "                                  \"longitude\":\"Longitude\",\n",
    "                                  \"address\":\"Address\", \n",
    "                                  \"city\":\"City\", \n",
    "                                  \"state\":\"State\", \n",
    "                                  \"zip\":\"ZipCode\",\n",
    "                                  \"Comment\":\"Comments\"})"
   ]
  },
  {
   "cell_type": "markdown",
   "id": "e8cf54c4",
   "metadata": {},
   "source": [
    "Un aperçu du jeu des données de 2015:"
   ]
  },
  {
   "cell_type": "code",
   "execution_count": 133,
   "id": "ab819518",
   "metadata": {},
   "outputs": [
    {
     "data": {
      "text/html": [
       "<div>\n",
       "<style scoped>\n",
       "    .dataframe tbody tr th:only-of-type {\n",
       "        vertical-align: middle;\n",
       "    }\n",
       "\n",
       "    .dataframe tbody tr th {\n",
       "        vertical-align: top;\n",
       "    }\n",
       "\n",
       "    .dataframe thead th {\n",
       "        text-align: right;\n",
       "    }\n",
       "</style>\n",
       "<table border=\"1\" class=\"dataframe\">\n",
       "  <thead>\n",
       "    <tr style=\"text-align: right;\">\n",
       "      <th></th>\n",
       "      <th>OSEBuildingID</th>\n",
       "      <th>DataYear</th>\n",
       "      <th>BuildingType</th>\n",
       "      <th>PrimaryPropertyType</th>\n",
       "      <th>PropertyName</th>\n",
       "      <th>TaxParcelIdentificationNumber</th>\n",
       "      <th>CouncilDistrictCode</th>\n",
       "      <th>Neighborhood</th>\n",
       "      <th>YearBuilt</th>\n",
       "      <th>NumberofBuildings</th>\n",
       "      <th>...</th>\n",
       "      <th>Seattle Police Department Micro Community Policing Plan Areas</th>\n",
       "      <th>City Council Districts</th>\n",
       "      <th>SPD Beats</th>\n",
       "      <th>Zip Codes</th>\n",
       "      <th>Latitude</th>\n",
       "      <th>Longitude</th>\n",
       "      <th>Address</th>\n",
       "      <th>City</th>\n",
       "      <th>State</th>\n",
       "      <th>ZipCode</th>\n",
       "    </tr>\n",
       "  </thead>\n",
       "  <tbody>\n",
       "    <tr>\n",
       "      <th>0</th>\n",
       "      <td>1</td>\n",
       "      <td>2015</td>\n",
       "      <td>NonResidential</td>\n",
       "      <td>Hotel</td>\n",
       "      <td>MAYFLOWER PARK HOTEL</td>\n",
       "      <td>659000030</td>\n",
       "      <td>7</td>\n",
       "      <td>DOWNTOWN</td>\n",
       "      <td>1927</td>\n",
       "      <td>1</td>\n",
       "      <td>...</td>\n",
       "      <td>14.0</td>\n",
       "      <td>NaN</td>\n",
       "      <td>31.0</td>\n",
       "      <td>18081</td>\n",
       "      <td>47.61219025</td>\n",
       "      <td>-122.33799744</td>\n",
       "      <td>405 OLIVE WAY</td>\n",
       "      <td>SEATTLE</td>\n",
       "      <td>WA</td>\n",
       "      <td>98101</td>\n",
       "    </tr>\n",
       "    <tr>\n",
       "      <th>1</th>\n",
       "      <td>2</td>\n",
       "      <td>2015</td>\n",
       "      <td>NonResidential</td>\n",
       "      <td>Hotel</td>\n",
       "      <td>PARAMOUNT HOTEL</td>\n",
       "      <td>659000220</td>\n",
       "      <td>7</td>\n",
       "      <td>DOWNTOWN</td>\n",
       "      <td>1996</td>\n",
       "      <td>1</td>\n",
       "      <td>...</td>\n",
       "      <td>14.0</td>\n",
       "      <td>NaN</td>\n",
       "      <td>31.0</td>\n",
       "      <td>18081</td>\n",
       "      <td>47.61310583</td>\n",
       "      <td>-122.33335756</td>\n",
       "      <td>724 PINE ST</td>\n",
       "      <td>SEATTLE</td>\n",
       "      <td>WA</td>\n",
       "      <td>98101</td>\n",
       "    </tr>\n",
       "    <tr>\n",
       "      <th>2</th>\n",
       "      <td>3</td>\n",
       "      <td>2015</td>\n",
       "      <td>NonResidential</td>\n",
       "      <td>Hotel</td>\n",
       "      <td>WESTIN HOTEL</td>\n",
       "      <td>659000475</td>\n",
       "      <td>7</td>\n",
       "      <td>DOWNTOWN</td>\n",
       "      <td>1969</td>\n",
       "      <td>1</td>\n",
       "      <td>...</td>\n",
       "      <td>56.0</td>\n",
       "      <td>NaN</td>\n",
       "      <td>31.0</td>\n",
       "      <td>18081</td>\n",
       "      <td>47.61334897</td>\n",
       "      <td>-122.33769944</td>\n",
       "      <td>1900 5TH AVE</td>\n",
       "      <td>SEATTLE</td>\n",
       "      <td>WA</td>\n",
       "      <td>98101</td>\n",
       "    </tr>\n",
       "    <tr>\n",
       "      <th>3</th>\n",
       "      <td>5</td>\n",
       "      <td>2015</td>\n",
       "      <td>NonResidential</td>\n",
       "      <td>Hotel</td>\n",
       "      <td>HOTEL MAX</td>\n",
       "      <td>659000640</td>\n",
       "      <td>7</td>\n",
       "      <td>DOWNTOWN</td>\n",
       "      <td>1926</td>\n",
       "      <td>1</td>\n",
       "      <td>...</td>\n",
       "      <td>56.0</td>\n",
       "      <td>NaN</td>\n",
       "      <td>31.0</td>\n",
       "      <td>18081</td>\n",
       "      <td>47.61421585</td>\n",
       "      <td>-122.33660889</td>\n",
       "      <td>620 STEWART ST</td>\n",
       "      <td>SEATTLE</td>\n",
       "      <td>WA</td>\n",
       "      <td>98101</td>\n",
       "    </tr>\n",
       "    <tr>\n",
       "      <th>4</th>\n",
       "      <td>8</td>\n",
       "      <td>2015</td>\n",
       "      <td>NonResidential</td>\n",
       "      <td>Hotel</td>\n",
       "      <td>WARWICK SEATTLE HOTEL</td>\n",
       "      <td>659000970</td>\n",
       "      <td>7</td>\n",
       "      <td>DOWNTOWN</td>\n",
       "      <td>1980</td>\n",
       "      <td>1</td>\n",
       "      <td>...</td>\n",
       "      <td>56.0</td>\n",
       "      <td>NaN</td>\n",
       "      <td>31.0</td>\n",
       "      <td>19576</td>\n",
       "      <td>47.6137544</td>\n",
       "      <td>-122.3409238</td>\n",
       "      <td>401 LENORA ST</td>\n",
       "      <td>SEATTLE</td>\n",
       "      <td>WA</td>\n",
       "      <td>98121</td>\n",
       "    </tr>\n",
       "  </tbody>\n",
       "</table>\n",
       "<p>5 rows × 52 columns</p>\n",
       "</div>"
      ],
      "text/plain": [
       "   OSEBuildingID  DataYear    BuildingType PrimaryPropertyType  \\\n",
       "0              1      2015  NonResidential               Hotel   \n",
       "1              2      2015  NonResidential               Hotel   \n",
       "2              3      2015  NonResidential               Hotel   \n",
       "3              5      2015  NonResidential               Hotel   \n",
       "4              8      2015  NonResidential               Hotel   \n",
       "\n",
       "            PropertyName TaxParcelIdentificationNumber  CouncilDistrictCode  \\\n",
       "0   MAYFLOWER PARK HOTEL                     659000030                    7   \n",
       "1        PARAMOUNT HOTEL                     659000220                    7   \n",
       "2           WESTIN HOTEL                     659000475                    7   \n",
       "3              HOTEL MAX                     659000640                    7   \n",
       "4  WARWICK SEATTLE HOTEL                     659000970                    7   \n",
       "\n",
       "  Neighborhood  YearBuilt  NumberofBuildings  ...  \\\n",
       "0     DOWNTOWN       1927                  1  ...   \n",
       "1     DOWNTOWN       1996                  1  ...   \n",
       "2     DOWNTOWN       1969                  1  ...   \n",
       "3     DOWNTOWN       1926                  1  ...   \n",
       "4     DOWNTOWN       1980                  1  ...   \n",
       "\n",
       "   Seattle Police Department Micro Community Policing Plan Areas  \\\n",
       "0                                               14.0               \n",
       "1                                               14.0               \n",
       "2                                               56.0               \n",
       "3                                               56.0               \n",
       "4                                               56.0               \n",
       "\n",
       "   City Council Districts  SPD Beats  Zip Codes     Latitude      Longitude  \\\n",
       "0                     NaN       31.0      18081  47.61219025  -122.33799744   \n",
       "1                     NaN       31.0      18081  47.61310583  -122.33335756   \n",
       "2                     NaN       31.0      18081  47.61334897  -122.33769944   \n",
       "3                     NaN       31.0      18081  47.61421585  -122.33660889   \n",
       "4                     NaN       31.0      19576   47.6137544   -122.3409238   \n",
       "\n",
       "          Address     City  State ZipCode  \n",
       "0   405 OLIVE WAY  SEATTLE     WA   98101  \n",
       "1     724 PINE ST  SEATTLE     WA   98101  \n",
       "2    1900 5TH AVE  SEATTLE     WA   98101  \n",
       "3  620 STEWART ST  SEATTLE     WA   98101  \n",
       "4   401 LENORA ST  SEATTLE     WA   98121  \n",
       "\n",
       "[5 rows x 52 columns]"
      ]
     },
     "execution_count": 133,
     "metadata": {},
     "output_type": "execute_result"
    }
   ],
   "source": [
    "df_conso_2015.head()"
   ]
  },
  {
   "cell_type": "markdown",
   "id": "69c9698c",
   "metadata": {},
   "source": [
    "### Variables identiques"
   ]
  },
  {
   "cell_type": "markdown",
   "id": "096ac942",
   "metadata": {},
   "source": [
    "Affichons ces features dans les données de 2015:"
   ]
  },
  {
   "cell_type": "code",
   "execution_count": 134,
   "id": "71107e15",
   "metadata": {},
   "outputs": [
    {
     "data": {
      "text/html": [
       "<div>\n",
       "<style scoped>\n",
       "    .dataframe tbody tr th:only-of-type {\n",
       "        vertical-align: middle;\n",
       "    }\n",
       "\n",
       "    .dataframe tbody tr th {\n",
       "        vertical-align: top;\n",
       "    }\n",
       "\n",
       "    .dataframe thead th {\n",
       "        text-align: right;\n",
       "    }\n",
       "</style>\n",
       "<table border=\"1\" class=\"dataframe\">\n",
       "  <thead>\n",
       "    <tr style=\"text-align: right;\">\n",
       "      <th></th>\n",
       "      <th>GHGEmissions(MetricTonsCO2e)</th>\n",
       "      <th>GHGEmissionsIntensity(kgCO2e/ft2)</th>\n",
       "    </tr>\n",
       "  </thead>\n",
       "  <tbody>\n",
       "    <tr>\n",
       "      <th>0</th>\n",
       "      <td>249.43</td>\n",
       "      <td>2.64</td>\n",
       "    </tr>\n",
       "    <tr>\n",
       "      <th>1</th>\n",
       "      <td>263.51</td>\n",
       "      <td>2.38</td>\n",
       "    </tr>\n",
       "    <tr>\n",
       "      <th>2</th>\n",
       "      <td>2061.48</td>\n",
       "      <td>1.92</td>\n",
       "    </tr>\n",
       "    <tr>\n",
       "      <th>3</th>\n",
       "      <td>1936.34</td>\n",
       "      <td>31.38</td>\n",
       "    </tr>\n",
       "    <tr>\n",
       "      <th>4</th>\n",
       "      <td>507.70</td>\n",
       "      <td>4.02</td>\n",
       "    </tr>\n",
       "  </tbody>\n",
       "</table>\n",
       "</div>"
      ],
      "text/plain": [
       "   GHGEmissions(MetricTonsCO2e)  GHGEmissionsIntensity(kgCO2e/ft2)\n",
       "0                        249.43                               2.64\n",
       "1                        263.51                               2.38\n",
       "2                       2061.48                               1.92\n",
       "3                       1936.34                              31.38\n",
       "4                        507.70                               4.02"
      ]
     },
     "execution_count": 134,
     "metadata": {},
     "output_type": "execute_result"
    }
   ],
   "source": [
    "df_conso_2015[['GHGEmissions(MetricTonsCO2e)','GHGEmissionsIntensity(kgCO2e/ft2)']].head()"
   ]
  },
  {
   "cell_type": "code",
   "execution_count": 135,
   "id": "7e168bff",
   "metadata": {},
   "outputs": [
    {
     "data": {
      "text/html": [
       "<div>\n",
       "<style scoped>\n",
       "    .dataframe tbody tr th:only-of-type {\n",
       "        vertical-align: middle;\n",
       "    }\n",
       "\n",
       "    .dataframe tbody tr th {\n",
       "        vertical-align: top;\n",
       "    }\n",
       "\n",
       "    .dataframe thead th {\n",
       "        text-align: right;\n",
       "    }\n",
       "</style>\n",
       "<table border=\"1\" class=\"dataframe\">\n",
       "  <thead>\n",
       "    <tr style=\"text-align: right;\">\n",
       "      <th></th>\n",
       "      <th>GHGEmissions(MetricTonsCO2e)</th>\n",
       "      <th>GHGEmissionsIntensity(kgCO2e/ft2)</th>\n",
       "    </tr>\n",
       "  </thead>\n",
       "  <tbody>\n",
       "    <tr>\n",
       "      <th>count</th>\n",
       "      <td>3330.000000</td>\n",
       "      <td>3330.000000</td>\n",
       "    </tr>\n",
       "    <tr>\n",
       "      <th>mean</th>\n",
       "      <td>110.094102</td>\n",
       "      <td>0.985339</td>\n",
       "    </tr>\n",
       "    <tr>\n",
       "      <th>std</th>\n",
       "      <td>409.450179</td>\n",
       "      <td>1.637172</td>\n",
       "    </tr>\n",
       "    <tr>\n",
       "      <th>min</th>\n",
       "      <td>0.000000</td>\n",
       "      <td>0.000000</td>\n",
       "    </tr>\n",
       "    <tr>\n",
       "      <th>25%</th>\n",
       "      <td>9.265000</td>\n",
       "      <td>0.080000</td>\n",
       "    </tr>\n",
       "    <tr>\n",
       "      <th>50%</th>\n",
       "      <td>32.740000</td>\n",
       "      <td>0.460000</td>\n",
       "    </tr>\n",
       "    <tr>\n",
       "      <th>75%</th>\n",
       "      <td>88.642500</td>\n",
       "      <td>1.180000</td>\n",
       "    </tr>\n",
       "    <tr>\n",
       "      <th>max</th>\n",
       "      <td>11824.890000</td>\n",
       "      <td>31.380000</td>\n",
       "    </tr>\n",
       "  </tbody>\n",
       "</table>\n",
       "</div>"
      ],
      "text/plain": [
       "       GHGEmissions(MetricTonsCO2e)  GHGEmissionsIntensity(kgCO2e/ft2)\n",
       "count                   3330.000000                        3330.000000\n",
       "mean                     110.094102                           0.985339\n",
       "std                      409.450179                           1.637172\n",
       "min                        0.000000                           0.000000\n",
       "25%                        9.265000                           0.080000\n",
       "50%                       32.740000                           0.460000\n",
       "75%                       88.642500                           1.180000\n",
       "max                    11824.890000                          31.380000"
      ]
     },
     "execution_count": 135,
     "metadata": {},
     "output_type": "execute_result"
    }
   ],
   "source": [
    "df_conso_2015[['GHGEmissions(MetricTonsCO2e)','GHGEmissionsIntensity(kgCO2e/ft2)']].describe()"
   ]
  },
  {
   "cell_type": "markdown",
   "id": "ec6f2ca8",
   "metadata": {},
   "source": [
    "Affichons ces features dans les données de 2016:"
   ]
  },
  {
   "cell_type": "code",
   "execution_count": 136,
   "id": "accf50ff",
   "metadata": {},
   "outputs": [
    {
     "data": {
      "text/html": [
       "<div>\n",
       "<style scoped>\n",
       "    .dataframe tbody tr th:only-of-type {\n",
       "        vertical-align: middle;\n",
       "    }\n",
       "\n",
       "    .dataframe tbody tr th {\n",
       "        vertical-align: top;\n",
       "    }\n",
       "\n",
       "    .dataframe thead th {\n",
       "        text-align: right;\n",
       "    }\n",
       "</style>\n",
       "<table border=\"1\" class=\"dataframe\">\n",
       "  <thead>\n",
       "    <tr style=\"text-align: right;\">\n",
       "      <th></th>\n",
       "      <th>GHGEmissionsIntensity</th>\n",
       "      <th>TotalGHGEmissions</th>\n",
       "    </tr>\n",
       "  </thead>\n",
       "  <tbody>\n",
       "    <tr>\n",
       "      <th>0</th>\n",
       "      <td>2.83</td>\n",
       "      <td>249.98</td>\n",
       "    </tr>\n",
       "    <tr>\n",
       "      <th>1</th>\n",
       "      <td>2.86</td>\n",
       "      <td>295.86</td>\n",
       "    </tr>\n",
       "    <tr>\n",
       "      <th>2</th>\n",
       "      <td>2.19</td>\n",
       "      <td>2089.28</td>\n",
       "    </tr>\n",
       "    <tr>\n",
       "      <th>3</th>\n",
       "      <td>4.67</td>\n",
       "      <td>286.43</td>\n",
       "    </tr>\n",
       "    <tr>\n",
       "      <th>4</th>\n",
       "      <td>2.88</td>\n",
       "      <td>505.01</td>\n",
       "    </tr>\n",
       "  </tbody>\n",
       "</table>\n",
       "</div>"
      ],
      "text/plain": [
       "   GHGEmissionsIntensity  TotalGHGEmissions\n",
       "0                   2.83             249.98\n",
       "1                   2.86             295.86\n",
       "2                   2.19            2089.28\n",
       "3                   4.67             286.43\n",
       "4                   2.88             505.01"
      ]
     },
     "execution_count": 136,
     "metadata": {},
     "output_type": "execute_result"
    }
   ],
   "source": [
    "df_conso_2016[['GHGEmissionsIntensity','TotalGHGEmissions']].head()"
   ]
  },
  {
   "cell_type": "code",
   "execution_count": 137,
   "id": "54a5fc97",
   "metadata": {},
   "outputs": [
    {
     "data": {
      "text/html": [
       "<div>\n",
       "<style scoped>\n",
       "    .dataframe tbody tr th:only-of-type {\n",
       "        vertical-align: middle;\n",
       "    }\n",
       "\n",
       "    .dataframe tbody tr th {\n",
       "        vertical-align: top;\n",
       "    }\n",
       "\n",
       "    .dataframe thead th {\n",
       "        text-align: right;\n",
       "    }\n",
       "</style>\n",
       "<table border=\"1\" class=\"dataframe\">\n",
       "  <thead>\n",
       "    <tr style=\"text-align: right;\">\n",
       "      <th></th>\n",
       "      <th>GHGEmissionsIntensity</th>\n",
       "      <th>TotalGHGEmissions</th>\n",
       "    </tr>\n",
       "  </thead>\n",
       "  <tbody>\n",
       "    <tr>\n",
       "      <th>count</th>\n",
       "      <td>3367.000000</td>\n",
       "      <td>3367.000000</td>\n",
       "    </tr>\n",
       "    <tr>\n",
       "      <th>mean</th>\n",
       "      <td>1.175916</td>\n",
       "      <td>119.723971</td>\n",
       "    </tr>\n",
       "    <tr>\n",
       "      <th>std</th>\n",
       "      <td>1.821452</td>\n",
       "      <td>538.832227</td>\n",
       "    </tr>\n",
       "    <tr>\n",
       "      <th>min</th>\n",
       "      <td>-0.020000</td>\n",
       "      <td>-0.800000</td>\n",
       "    </tr>\n",
       "    <tr>\n",
       "      <th>25%</th>\n",
       "      <td>0.210000</td>\n",
       "      <td>9.495000</td>\n",
       "    </tr>\n",
       "    <tr>\n",
       "      <th>50%</th>\n",
       "      <td>0.610000</td>\n",
       "      <td>33.920000</td>\n",
       "    </tr>\n",
       "    <tr>\n",
       "      <th>75%</th>\n",
       "      <td>1.370000</td>\n",
       "      <td>93.940000</td>\n",
       "    </tr>\n",
       "    <tr>\n",
       "      <th>max</th>\n",
       "      <td>34.090000</td>\n",
       "      <td>16870.980000</td>\n",
       "    </tr>\n",
       "  </tbody>\n",
       "</table>\n",
       "</div>"
      ],
      "text/plain": [
       "       GHGEmissionsIntensity  TotalGHGEmissions\n",
       "count            3367.000000        3367.000000\n",
       "mean                1.175916         119.723971\n",
       "std                 1.821452         538.832227\n",
       "min                -0.020000          -0.800000\n",
       "25%                 0.210000           9.495000\n",
       "50%                 0.610000          33.920000\n",
       "75%                 1.370000          93.940000\n",
       "max                34.090000       16870.980000"
      ]
     },
     "execution_count": 137,
     "metadata": {},
     "output_type": "execute_result"
    }
   ],
   "source": [
    "df_conso_2016[['GHGEmissionsIntensity','TotalGHGEmissions']].describe()"
   ]
  },
  {
   "cell_type": "markdown",
   "id": "209edaee",
   "metadata": {},
   "source": [
    "Les features 'GHGEmissions(MetricTonsCO2e)' et 'TotalGHGEmissions' sont les même variables mais sous des formatages différents idem pour 'GHGEmissionsIntensity' et 'GHGEmissionsIntensity(kgCO2e/ft2)'.\n",
    "\n",
    "Nous allons corriger ces erreurs de formattage en renommant ces features:"
   ]
  },
  {
   "cell_type": "code",
   "execution_count": 138,
   "id": "1c7e4b6d",
   "metadata": {},
   "outputs": [],
   "source": [
    "df_conso_2015 = df_conso_2015.rename(columns={'GHGEmissions(MetricTonsCO2e)':'TotalGHGEmissions',\n",
    "                                  'GHGEmissionsIntensity(kgCO2e/ft2)':'GHGEmissionsIntensity'})"
   ]
  },
  {
   "cell_type": "markdown",
   "id": "eece2901",
   "metadata": {},
   "source": [
    "### Suppression des variables non communes"
   ]
  },
  {
   "cell_type": "markdown",
   "id": "6c123683",
   "metadata": {},
   "source": [
    "Supprimons des variables non communes aux  deux jeux de données et non utiles pour la problématique:"
   ]
  },
  {
   "cell_type": "code",
   "execution_count": 139,
   "id": "a7394a87",
   "metadata": {},
   "outputs": [],
   "source": [
    "df_conso_2015=df_conso_2015.drop(columns=['OtherFuelUse(kBtu)','2010 Census Tracts',\n",
    "                                          'Seattle Police Department Micro Community Policing Plan Areas',\n",
    "                                          'City Council Districts','SPD Beats','Zip Codes'])"
   ]
  },
  {
   "cell_type": "markdown",
   "id": "a3581e20",
   "metadata": {},
   "source": [
    "### Les types des variables "
   ]
  },
  {
   "cell_type": "markdown",
   "id": "91a418b9",
   "metadata": {},
   "source": [
    "Définissons une fonction qui détecte les différences des types de variable dans les deux jeux de données:"
   ]
  },
  {
   "cell_type": "code",
   "execution_count": 140,
   "id": "0aa44b58",
   "metadata": {},
   "outputs": [],
   "source": [
    "def types_non_communes(df1,df2):\n",
    "    liste=[]\n",
    "    for col in df1.columns:\n",
    "        if df1[col].dtypes!= df2[col].dtypes:\n",
    "            liste.append(col)\n",
    "    return liste"
   ]
  },
  {
   "cell_type": "markdown",
   "id": "84f37f7c",
   "metadata": {},
   "source": [
    "Analysons les différences des types variables dans les deux jeux de données :"
   ]
  },
  {
   "cell_type": "code",
   "execution_count": 141,
   "id": "ac7db22b",
   "metadata": {},
   "outputs": [
    {
     "name": "stdout",
     "output_type": "stream",
     "text": [
      "Les variables ayant des types différents entre les deux jeux de données sont:\n"
     ]
    },
    {
     "data": {
      "text/plain": [
       "['NumberofBuildings',\n",
       " 'NumberofFloors',\n",
       " 'DefaultData',\n",
       " 'Comments',\n",
       " 'Latitude',\n",
       " 'Longitude',\n",
       " 'ZipCode']"
      ]
     },
     "execution_count": 141,
     "metadata": {},
     "output_type": "execute_result"
    }
   ],
   "source": [
    "liste=types_non_communes(df_conso_2015,df_conso_2016)\n",
    "print(\"Les variables ayant des types différents entre les deux jeux de données sont:\")\n",
    "liste"
   ]
  },
  {
   "cell_type": "markdown",
   "id": "5f675547",
   "metadata": {},
   "source": [
    "Visualissons les types de variables dans les deux de données:"
   ]
  },
  {
   "cell_type": "code",
   "execution_count": 142,
   "id": "8f61cfde",
   "metadata": {},
   "outputs": [
    {
     "data": {
      "text/html": [
       "<div>\n",
       "<style scoped>\n",
       "    .dataframe tbody tr th:only-of-type {\n",
       "        vertical-align: middle;\n",
       "    }\n",
       "\n",
       "    .dataframe tbody tr th {\n",
       "        vertical-align: top;\n",
       "    }\n",
       "\n",
       "    .dataframe thead th {\n",
       "        text-align: right;\n",
       "    }\n",
       "</style>\n",
       "<table border=\"1\" class=\"dataframe\">\n",
       "  <thead>\n",
       "    <tr style=\"text-align: right;\">\n",
       "      <th></th>\n",
       "      <th>NumberofBuildings</th>\n",
       "      <th>NumberofFloors</th>\n",
       "      <th>DefaultData</th>\n",
       "      <th>Comments</th>\n",
       "      <th>Latitude</th>\n",
       "      <th>Longitude</th>\n",
       "      <th>ZipCode</th>\n",
       "    </tr>\n",
       "  </thead>\n",
       "  <tbody>\n",
       "    <tr>\n",
       "      <th>2015</th>\n",
       "      <td>int64</td>\n",
       "      <td>float64</td>\n",
       "      <td>object</td>\n",
       "      <td>object</td>\n",
       "      <td>object</td>\n",
       "      <td>object</td>\n",
       "      <td>object</td>\n",
       "    </tr>\n",
       "    <tr>\n",
       "      <th>2016</th>\n",
       "      <td>float64</td>\n",
       "      <td>int64</td>\n",
       "      <td>bool</td>\n",
       "      <td>float64</td>\n",
       "      <td>float64</td>\n",
       "      <td>float64</td>\n",
       "      <td>float64</td>\n",
       "    </tr>\n",
       "  </tbody>\n",
       "</table>\n",
       "</div>"
      ],
      "text/plain": [
       "     NumberofBuildings NumberofFloors DefaultData Comments Latitude Longitude  \\\n",
       "2015             int64        float64      object   object   object    object   \n",
       "2016           float64          int64        bool  float64  float64   float64   \n",
       "\n",
       "      ZipCode  \n",
       "2015   object  \n",
       "2016  float64  "
      ]
     },
     "execution_count": 142,
     "metadata": {},
     "output_type": "execute_result"
    }
   ],
   "source": [
    "pd.DataFrame([df_conso_2015[liste].dtypes, df_conso_2016[liste].dtypes],index=['2015','2016'])"
   ]
  },
  {
   "cell_type": "markdown",
   "id": "483510e3",
   "metadata": {},
   "source": [
    "Mettons les variables aux même types dans les deux jeux de données :"
   ]
  },
  {
   "cell_type": "code",
   "execution_count": 143,
   "id": "ca8cb657",
   "metadata": {},
   "outputs": [],
   "source": [
    "df_conso_2015[['NumberofBuildings','NumberofFloors','Latitude','Longitude','ZipCode']]= \\\n",
    "df_conso_2015[['NumberofBuildings','NumberofFloors','Latitude','Longitude','ZipCode']].astype('float64')\n",
    "df_conso_2016[['NumberofFloors']]=df_conso_2016[['NumberofFloors']].astype('float64')\n",
    "df_conso_2016[['Comments','DefaultData']]=df_conso_2016[['Comments','DefaultData']].astype('object')"
   ]
  },
  {
   "cell_type": "markdown",
   "id": "c31d9bcf",
   "metadata": {},
   "source": [
    "Recontrollons les types  des variables:"
   ]
  },
  {
   "cell_type": "code",
   "execution_count": 144,
   "id": "d5f0d940",
   "metadata": {},
   "outputs": [
    {
     "data": {
      "text/html": [
       "<div>\n",
       "<style scoped>\n",
       "    .dataframe tbody tr th:only-of-type {\n",
       "        vertical-align: middle;\n",
       "    }\n",
       "\n",
       "    .dataframe tbody tr th {\n",
       "        vertical-align: top;\n",
       "    }\n",
       "\n",
       "    .dataframe thead th {\n",
       "        text-align: right;\n",
       "    }\n",
       "</style>\n",
       "<table border=\"1\" class=\"dataframe\">\n",
       "  <thead>\n",
       "    <tr style=\"text-align: right;\">\n",
       "      <th></th>\n",
       "      <th>NumberofBuildings</th>\n",
       "      <th>NumberofFloors</th>\n",
       "      <th>DefaultData</th>\n",
       "      <th>Comments</th>\n",
       "      <th>Latitude</th>\n",
       "      <th>Longitude</th>\n",
       "      <th>ZipCode</th>\n",
       "    </tr>\n",
       "  </thead>\n",
       "  <tbody>\n",
       "    <tr>\n",
       "      <th>2015</th>\n",
       "      <td>float64</td>\n",
       "      <td>float64</td>\n",
       "      <td>object</td>\n",
       "      <td>object</td>\n",
       "      <td>float64</td>\n",
       "      <td>float64</td>\n",
       "      <td>float64</td>\n",
       "    </tr>\n",
       "    <tr>\n",
       "      <th>2016</th>\n",
       "      <td>float64</td>\n",
       "      <td>float64</td>\n",
       "      <td>object</td>\n",
       "      <td>object</td>\n",
       "      <td>float64</td>\n",
       "      <td>float64</td>\n",
       "      <td>float64</td>\n",
       "    </tr>\n",
       "  </tbody>\n",
       "</table>\n",
       "</div>"
      ],
      "text/plain": [
       "     NumberofBuildings NumberofFloors DefaultData Comments Latitude Longitude  \\\n",
       "2015           float64        float64      object   object  float64   float64   \n",
       "2016           float64        float64      object   object  float64   float64   \n",
       "\n",
       "      ZipCode  \n",
       "2015  float64  \n",
       "2016  float64  "
      ]
     },
     "execution_count": 144,
     "metadata": {},
     "output_type": "execute_result"
    }
   ],
   "source": [
    "pd.DataFrame([df_conso_2015[liste].dtypes, df_conso_2016[liste].dtypes],index=['2015','2016'])"
   ]
  },
  {
   "cell_type": "markdown",
   "id": "f4309f36",
   "metadata": {},
   "source": [
    "### Fusion des deux jeux de données"
   ]
  },
  {
   "cell_type": "markdown",
   "id": "97a67b05",
   "metadata": {},
   "source": [
    "Fusionnons les deux jeux de données:"
   ]
  },
  {
   "cell_type": "code",
   "execution_count": 145,
   "id": "a9079106",
   "metadata": {},
   "outputs": [],
   "source": [
    "df_conso_fusion=pd.concat([df_conso_2015, df_conso_2016],axis = 0)"
   ]
  },
  {
   "cell_type": "markdown",
   "id": "6758619c",
   "metadata": {},
   "source": [
    "Un aperçu du nouveau jeu de données:"
   ]
  },
  {
   "cell_type": "code",
   "execution_count": 146,
   "id": "1a5904a4",
   "metadata": {
    "scrolled": true
   },
   "outputs": [
    {
     "data": {
      "text/html": [
       "<div>\n",
       "<style scoped>\n",
       "    .dataframe tbody tr th:only-of-type {\n",
       "        vertical-align: middle;\n",
       "    }\n",
       "\n",
       "    .dataframe tbody tr th {\n",
       "        vertical-align: top;\n",
       "    }\n",
       "\n",
       "    .dataframe thead th {\n",
       "        text-align: right;\n",
       "    }\n",
       "</style>\n",
       "<table border=\"1\" class=\"dataframe\">\n",
       "  <thead>\n",
       "    <tr style=\"text-align: right;\">\n",
       "      <th></th>\n",
       "      <th>OSEBuildingID</th>\n",
       "      <th>DataYear</th>\n",
       "      <th>BuildingType</th>\n",
       "      <th>PrimaryPropertyType</th>\n",
       "      <th>PropertyName</th>\n",
       "      <th>TaxParcelIdentificationNumber</th>\n",
       "      <th>CouncilDistrictCode</th>\n",
       "      <th>Neighborhood</th>\n",
       "      <th>YearBuilt</th>\n",
       "      <th>NumberofBuildings</th>\n",
       "      <th>...</th>\n",
       "      <th>DefaultData</th>\n",
       "      <th>Comments</th>\n",
       "      <th>ComplianceStatus</th>\n",
       "      <th>Outlier</th>\n",
       "      <th>Latitude</th>\n",
       "      <th>Longitude</th>\n",
       "      <th>Address</th>\n",
       "      <th>City</th>\n",
       "      <th>State</th>\n",
       "      <th>ZipCode</th>\n",
       "    </tr>\n",
       "  </thead>\n",
       "  <tbody>\n",
       "    <tr>\n",
       "      <th>0</th>\n",
       "      <td>1</td>\n",
       "      <td>2015</td>\n",
       "      <td>NonResidential</td>\n",
       "      <td>Hotel</td>\n",
       "      <td>MAYFLOWER PARK HOTEL</td>\n",
       "      <td>659000030</td>\n",
       "      <td>7</td>\n",
       "      <td>DOWNTOWN</td>\n",
       "      <td>1927</td>\n",
       "      <td>1.0</td>\n",
       "      <td>...</td>\n",
       "      <td>No</td>\n",
       "      <td>NaN</td>\n",
       "      <td>Compliant</td>\n",
       "      <td>NaN</td>\n",
       "      <td>47.612190</td>\n",
       "      <td>-122.337997</td>\n",
       "      <td>405 OLIVE WAY</td>\n",
       "      <td>SEATTLE</td>\n",
       "      <td>WA</td>\n",
       "      <td>98101.0</td>\n",
       "    </tr>\n",
       "    <tr>\n",
       "      <th>1</th>\n",
       "      <td>2</td>\n",
       "      <td>2015</td>\n",
       "      <td>NonResidential</td>\n",
       "      <td>Hotel</td>\n",
       "      <td>PARAMOUNT HOTEL</td>\n",
       "      <td>659000220</td>\n",
       "      <td>7</td>\n",
       "      <td>DOWNTOWN</td>\n",
       "      <td>1996</td>\n",
       "      <td>1.0</td>\n",
       "      <td>...</td>\n",
       "      <td>No</td>\n",
       "      <td>NaN</td>\n",
       "      <td>Compliant</td>\n",
       "      <td>NaN</td>\n",
       "      <td>47.613106</td>\n",
       "      <td>-122.333358</td>\n",
       "      <td>724 PINE ST</td>\n",
       "      <td>SEATTLE</td>\n",
       "      <td>WA</td>\n",
       "      <td>98101.0</td>\n",
       "    </tr>\n",
       "    <tr>\n",
       "      <th>2</th>\n",
       "      <td>3</td>\n",
       "      <td>2015</td>\n",
       "      <td>NonResidential</td>\n",
       "      <td>Hotel</td>\n",
       "      <td>WESTIN HOTEL</td>\n",
       "      <td>659000475</td>\n",
       "      <td>7</td>\n",
       "      <td>DOWNTOWN</td>\n",
       "      <td>1969</td>\n",
       "      <td>1.0</td>\n",
       "      <td>...</td>\n",
       "      <td>Yes</td>\n",
       "      <td>NaN</td>\n",
       "      <td>Compliant</td>\n",
       "      <td>NaN</td>\n",
       "      <td>47.613349</td>\n",
       "      <td>-122.337699</td>\n",
       "      <td>1900 5TH AVE</td>\n",
       "      <td>SEATTLE</td>\n",
       "      <td>WA</td>\n",
       "      <td>98101.0</td>\n",
       "    </tr>\n",
       "    <tr>\n",
       "      <th>3</th>\n",
       "      <td>5</td>\n",
       "      <td>2015</td>\n",
       "      <td>NonResidential</td>\n",
       "      <td>Hotel</td>\n",
       "      <td>HOTEL MAX</td>\n",
       "      <td>659000640</td>\n",
       "      <td>7</td>\n",
       "      <td>DOWNTOWN</td>\n",
       "      <td>1926</td>\n",
       "      <td>1.0</td>\n",
       "      <td>...</td>\n",
       "      <td>No</td>\n",
       "      <td>NaN</td>\n",
       "      <td>Compliant</td>\n",
       "      <td>High Outlier</td>\n",
       "      <td>47.614216</td>\n",
       "      <td>-122.336609</td>\n",
       "      <td>620 STEWART ST</td>\n",
       "      <td>SEATTLE</td>\n",
       "      <td>WA</td>\n",
       "      <td>98101.0</td>\n",
       "    </tr>\n",
       "    <tr>\n",
       "      <th>4</th>\n",
       "      <td>8</td>\n",
       "      <td>2015</td>\n",
       "      <td>NonResidential</td>\n",
       "      <td>Hotel</td>\n",
       "      <td>WARWICK SEATTLE HOTEL</td>\n",
       "      <td>659000970</td>\n",
       "      <td>7</td>\n",
       "      <td>DOWNTOWN</td>\n",
       "      <td>1980</td>\n",
       "      <td>1.0</td>\n",
       "      <td>...</td>\n",
       "      <td>No</td>\n",
       "      <td>NaN</td>\n",
       "      <td>Compliant</td>\n",
       "      <td>NaN</td>\n",
       "      <td>47.613754</td>\n",
       "      <td>-122.340924</td>\n",
       "      <td>401 LENORA ST</td>\n",
       "      <td>SEATTLE</td>\n",
       "      <td>WA</td>\n",
       "      <td>98121.0</td>\n",
       "    </tr>\n",
       "  </tbody>\n",
       "</table>\n",
       "<p>5 rows × 46 columns</p>\n",
       "</div>"
      ],
      "text/plain": [
       "   OSEBuildingID  DataYear    BuildingType PrimaryPropertyType  \\\n",
       "0              1      2015  NonResidential               Hotel   \n",
       "1              2      2015  NonResidential               Hotel   \n",
       "2              3      2015  NonResidential               Hotel   \n",
       "3              5      2015  NonResidential               Hotel   \n",
       "4              8      2015  NonResidential               Hotel   \n",
       "\n",
       "            PropertyName TaxParcelIdentificationNumber  CouncilDistrictCode  \\\n",
       "0   MAYFLOWER PARK HOTEL                     659000030                    7   \n",
       "1        PARAMOUNT HOTEL                     659000220                    7   \n",
       "2           WESTIN HOTEL                     659000475                    7   \n",
       "3              HOTEL MAX                     659000640                    7   \n",
       "4  WARWICK SEATTLE HOTEL                     659000970                    7   \n",
       "\n",
       "  Neighborhood  YearBuilt  NumberofBuildings  ...  DefaultData  Comments  \\\n",
       "0     DOWNTOWN       1927                1.0  ...           No       NaN   \n",
       "1     DOWNTOWN       1996                1.0  ...           No       NaN   \n",
       "2     DOWNTOWN       1969                1.0  ...          Yes       NaN   \n",
       "3     DOWNTOWN       1926                1.0  ...           No       NaN   \n",
       "4     DOWNTOWN       1980                1.0  ...           No       NaN   \n",
       "\n",
       "   ComplianceStatus       Outlier   Latitude   Longitude         Address  \\\n",
       "0         Compliant           NaN  47.612190 -122.337997   405 OLIVE WAY   \n",
       "1         Compliant           NaN  47.613106 -122.333358     724 PINE ST   \n",
       "2         Compliant           NaN  47.613349 -122.337699    1900 5TH AVE   \n",
       "3         Compliant  High Outlier  47.614216 -122.336609  620 STEWART ST   \n",
       "4         Compliant           NaN  47.613754 -122.340924   401 LENORA ST   \n",
       "\n",
       "      City  State  ZipCode  \n",
       "0  SEATTLE     WA  98101.0  \n",
       "1  SEATTLE     WA  98101.0  \n",
       "2  SEATTLE     WA  98101.0  \n",
       "3  SEATTLE     WA  98101.0  \n",
       "4  SEATTLE     WA  98121.0  \n",
       "\n",
       "[5 rows x 46 columns]"
      ]
     },
     "execution_count": 146,
     "metadata": {},
     "output_type": "execute_result"
    }
   ],
   "source": [
    "df_conso_fusion.head()"
   ]
  },
  {
   "cell_type": "markdown",
   "id": "4569a5d6",
   "metadata": {},
   "source": [
    "Sa taille:"
   ]
  },
  {
   "cell_type": "code",
   "execution_count": 147,
   "id": "ce914216",
   "metadata": {},
   "outputs": [
    {
     "name": "stdout",
     "output_type": "stream",
     "text": [
      "Le nouveau jeu de données compte 6716 lignes et 46 variables\n"
     ]
    }
   ],
   "source": [
    "print (\"Le nouveau jeu de données compte {} lignes et {} variables\".format(df_conso_fusion.shape[0], df_conso_fusion.shape[1]))"
   ]
  },
  {
   "cell_type": "markdown",
   "id": "adaf55be",
   "metadata": {},
   "source": [
    "### Suppression des bâtiments destinés à l’habitation"
   ]
  },
  {
   "cell_type": "markdown",
   "id": "d4f5805b",
   "metadata": {},
   "source": [
    "Notre problematique consiste à prédire les émissions de CO2 et la consommation totale d’énergie de bâtiments non destinés à l’habitation, nous allons donc supprimer les bâtiments destinés à l’habitation."
   ]
  },
  {
   "cell_type": "markdown",
   "id": "8a81845b",
   "metadata": {},
   "source": [
    "Visualisons les types de bâtiments:"
   ]
  },
  {
   "cell_type": "code",
   "execution_count": 148,
   "id": "58573a4d",
   "metadata": {},
   "outputs": [
    {
     "data": {
      "text/plain": [
       "array(['NonResidential', 'Nonresidential COS', 'Multifamily MR (5-9)',\n",
       "       'SPS-District K-12', 'Multifamily LR (1-4)', 'Campus',\n",
       "       'Multifamily HR (10+)', 'Nonresidential WA'], dtype=object)"
      ]
     },
     "execution_count": 148,
     "metadata": {},
     "output_type": "execute_result"
    }
   ],
   "source": [
    "df_conso_fusion['BuildingType'].unique()"
   ]
  },
  {
   "cell_type": "markdown",
   "id": "aeed43ee",
   "metadata": {},
   "source": [
    "Eliminons les bâtiments destinés à l’habitation:"
   ]
  },
  {
   "cell_type": "code",
   "execution_count": 149,
   "id": "b5f51217",
   "metadata": {},
   "outputs": [],
   "source": [
    "mask=~df_conso_fusion['BuildingType'].str.contains(\"Multifamily\")\n",
    "df_conso_fusion = df_conso_fusion[mask]"
   ]
  },
  {
   "cell_type": "markdown",
   "id": "aef6dc36",
   "metadata": {},
   "source": [
    "Recontrollons les types de bâtiments du jeu de données:"
   ]
  },
  {
   "cell_type": "code",
   "execution_count": 150,
   "id": "9b85e823",
   "metadata": {},
   "outputs": [
    {
     "data": {
      "text/plain": [
       "array(['NonResidential', 'Nonresidential COS', 'SPS-District K-12',\n",
       "       'Campus', 'Nonresidential WA'], dtype=object)"
      ]
     },
     "execution_count": 150,
     "metadata": {},
     "output_type": "execute_result"
    }
   ],
   "source": [
    "df_conso_fusion['BuildingType'].unique()"
   ]
  },
  {
   "cell_type": "markdown",
   "id": "78f300eb",
   "metadata": {},
   "source": [
    "Sa nouvelle taille:"
   ]
  },
  {
   "cell_type": "code",
   "execution_count": 151,
   "id": "eb57a345",
   "metadata": {},
   "outputs": [
    {
     "name": "stdout",
     "output_type": "stream",
     "text": [
      "Le jeu de données compte 3318 lignes et 46 variables\n"
     ]
    }
   ],
   "source": [
    "print (\"Le jeu de données compte {} lignes et {} variables\".format(df_conso_fusion.shape[0], df_conso_fusion.shape[1]))"
   ]
  },
  {
   "cell_type": "markdown",
   "id": "98002809",
   "metadata": {},
   "source": [
    "### Variables redondantes"
   ]
  },
  {
   "cell_type": "markdown",
   "id": "86883948",
   "metadata": {},
   "source": [
    "Les variables SiteEUI(kBtu/sf) et SiteEUIWN(kBtu/sf) sont des variables redondantes car le terme 'WN' est juste une correction liée aux conditions atmosphériques.\n",
    "Idem pour les variables SourceEUI(kBtu/sf) et SourceEUIWN(kBtu/sf) ,SiteEnergyUse(kBtu) et SiteEnergyUseWN(kBtu).\n",
    "\n",
    "Les variables Electricity(kWh) et Electricity(kBtu), NaturalGas(therms) et NaturalGas(kBtu) sont les mêmes données mais exprimées en des unités differentes."
   ]
  },
  {
   "cell_type": "markdown",
   "id": "3e3cd220",
   "metadata": {},
   "source": [
    "Eliminons ces valeurs redondantes:"
   ]
  },
  {
   "cell_type": "code",
   "execution_count": 152,
   "id": "622c105d",
   "metadata": {},
   "outputs": [],
   "source": [
    "df_conso_fusion=df_conso_fusion.drop(columns=['SiteEUIWN(kBtu/sf)','SourceEUIWN(kBtu/sf)','SiteEnergyUseWN(kBtu)',\n",
    "                                'Electricity(kWh)','NaturalGas(therms)'])"
   ]
  },
  {
   "cell_type": "markdown",
   "id": "f5f073ad",
   "metadata": {},
   "source": [
    "### Traitement des valeurs aberrantes"
   ]
  },
  {
   "cell_type": "code",
   "execution_count": 153,
   "id": "9f443203",
   "metadata": {},
   "outputs": [],
   "source": [
    "df_conso_aberr=df_conso_fusion.copy()"
   ]
  },
  {
   "cell_type": "markdown",
   "id": "1fe211d5",
   "metadata": {},
   "source": [
    "Listons les features numeriques:"
   ]
  },
  {
   "cell_type": "code",
   "execution_count": 154,
   "id": "328271eb",
   "metadata": {},
   "outputs": [
    {
     "data": {
      "text/plain": [
       "Index(['OSEBuildingID', 'DataYear', 'CouncilDistrictCode', 'YearBuilt',\n",
       "       'NumberofBuildings', 'NumberofFloors', 'PropertyGFATotal',\n",
       "       'PropertyGFAParking', 'PropertyGFABuilding(s)',\n",
       "       'LargestPropertyUseTypeGFA', 'SecondLargestPropertyUseTypeGFA',\n",
       "       'ThirdLargestPropertyUseTypeGFA', 'ENERGYSTARScore', 'SiteEUI(kBtu/sf)',\n",
       "       'SourceEUI(kBtu/sf)', 'SiteEnergyUse(kBtu)', 'SteamUse(kBtu)',\n",
       "       'Electricity(kBtu)', 'NaturalGas(kBtu)', 'TotalGHGEmissions',\n",
       "       'GHGEmissionsIntensity', 'Latitude', 'Longitude', 'ZipCode'],\n",
       "      dtype='object')"
      ]
     },
     "execution_count": 154,
     "metadata": {},
     "output_type": "execute_result"
    }
   ],
   "source": [
    "df_conso_aberr_num=df_conso_aberr.select_dtypes(include = ['float64', 'int64'])\n",
    "df_conso_aberr_num.columns"
   ]
  },
  {
   "cell_type": "markdown",
   "id": "02a80272",
   "metadata": {},
   "source": [
    "Analysons ces features:"
   ]
  },
  {
   "cell_type": "code",
   "execution_count": 155,
   "id": "172a8d53",
   "metadata": {},
   "outputs": [
    {
     "data": {
      "text/html": [
       "<div>\n",
       "<style scoped>\n",
       "    .dataframe tbody tr th:only-of-type {\n",
       "        vertical-align: middle;\n",
       "    }\n",
       "\n",
       "    .dataframe tbody tr th {\n",
       "        vertical-align: top;\n",
       "    }\n",
       "\n",
       "    .dataframe thead th {\n",
       "        text-align: right;\n",
       "    }\n",
       "</style>\n",
       "<table border=\"1\" class=\"dataframe\">\n",
       "  <thead>\n",
       "    <tr style=\"text-align: right;\">\n",
       "      <th></th>\n",
       "      <th>OSEBuildingID</th>\n",
       "      <th>DataYear</th>\n",
       "      <th>CouncilDistrictCode</th>\n",
       "      <th>YearBuilt</th>\n",
       "      <th>NumberofBuildings</th>\n",
       "      <th>NumberofFloors</th>\n",
       "      <th>PropertyGFATotal</th>\n",
       "      <th>PropertyGFAParking</th>\n",
       "      <th>PropertyGFABuilding(s)</th>\n",
       "      <th>LargestPropertyUseTypeGFA</th>\n",
       "      <th>SecondLargestPropertyUseTypeGFA</th>\n",
       "    </tr>\n",
       "  </thead>\n",
       "  <tbody>\n",
       "    <tr>\n",
       "      <th>count</th>\n",
       "      <td>3318.000000</td>\n",
       "      <td>3318.000000</td>\n",
       "      <td>3318.000000</td>\n",
       "      <td>3318.000000</td>\n",
       "      <td>3316.000000</td>\n",
       "      <td>3310.000000</td>\n",
       "      <td>3.318000e+03</td>\n",
       "      <td>3318.000000</td>\n",
       "      <td>3.318000e+03</td>\n",
       "      <td>3.247000e+03</td>\n",
       "      <td>1667.000000</td>\n",
       "    </tr>\n",
       "    <tr>\n",
       "      <th>mean</th>\n",
       "      <td>15951.816154</td>\n",
       "      <td>2015.502712</td>\n",
       "      <td>4.365883</td>\n",
       "      <td>1961.536769</td>\n",
       "      <td>1.117310</td>\n",
       "      <td>4.126888</td>\n",
       "      <td>1.156672e+05</td>\n",
       "      <td>13303.304702</td>\n",
       "      <td>1.023639e+05</td>\n",
       "      <td>9.539352e+04</td>\n",
       "      <td>36144.703237</td>\n",
       "    </tr>\n",
       "    <tr>\n",
       "      <th>std</th>\n",
       "      <td>13411.897096</td>\n",
       "      <td>0.500068</td>\n",
       "      <td>2.195304</td>\n",
       "      <td>32.709772</td>\n",
       "      <td>2.219845</td>\n",
       "      <td>6.567333</td>\n",
       "      <td>2.511222e+05</td>\n",
       "      <td>43596.620504</td>\n",
       "      <td>2.340749e+05</td>\n",
       "      <td>2.274274e+05</td>\n",
       "      <td>68243.536838</td>\n",
       "    </tr>\n",
       "    <tr>\n",
       "      <th>min</th>\n",
       "      <td>1.000000</td>\n",
       "      <td>2015.000000</td>\n",
       "      <td>1.000000</td>\n",
       "      <td>1900.000000</td>\n",
       "      <td>0.000000</td>\n",
       "      <td>0.000000</td>\n",
       "      <td>1.128500e+04</td>\n",
       "      <td>-2.000000</td>\n",
       "      <td>-5.055000e+04</td>\n",
       "      <td>5.656000e+03</td>\n",
       "      <td>0.000000</td>\n",
       "    </tr>\n",
       "    <tr>\n",
       "      <th>25%</th>\n",
       "      <td>579.000000</td>\n",
       "      <td>2015.000000</td>\n",
       "      <td>2.000000</td>\n",
       "      <td>1930.000000</td>\n",
       "      <td>1.000000</td>\n",
       "      <td>1.000000</td>\n",
       "      <td>2.951225e+04</td>\n",
       "      <td>0.000000</td>\n",
       "      <td>2.850775e+04</td>\n",
       "      <td>2.550000e+04</td>\n",
       "      <td>5400.000000</td>\n",
       "    </tr>\n",
       "    <tr>\n",
       "      <th>50%</th>\n",
       "      <td>21122.000000</td>\n",
       "      <td>2016.000000</td>\n",
       "      <td>4.000000</td>\n",
       "      <td>1965.000000</td>\n",
       "      <td>1.000000</td>\n",
       "      <td>2.000000</td>\n",
       "      <td>4.924600e+04</td>\n",
       "      <td>0.000000</td>\n",
       "      <td>4.736800e+04</td>\n",
       "      <td>4.320000e+04</td>\n",
       "      <td>12102.000000</td>\n",
       "    </tr>\n",
       "    <tr>\n",
       "      <th>75%</th>\n",
       "      <td>24556.750000</td>\n",
       "      <td>2016.000000</td>\n",
       "      <td>7.000000</td>\n",
       "      <td>1989.000000</td>\n",
       "      <td>1.000000</td>\n",
       "      <td>4.000000</td>\n",
       "      <td>1.047860e+05</td>\n",
       "      <td>0.000000</td>\n",
       "      <td>9.447150e+04</td>\n",
       "      <td>9.000000e+04</td>\n",
       "      <td>31190.500000</td>\n",
       "    </tr>\n",
       "    <tr>\n",
       "      <th>max</th>\n",
       "      <td>50226.000000</td>\n",
       "      <td>2016.000000</td>\n",
       "      <td>7.000000</td>\n",
       "      <td>2015.000000</td>\n",
       "      <td>111.000000</td>\n",
       "      <td>99.000000</td>\n",
       "      <td>9.320156e+06</td>\n",
       "      <td>512608.000000</td>\n",
       "      <td>9.320156e+06</td>\n",
       "      <td>9.320156e+06</td>\n",
       "      <td>686750.000000</td>\n",
       "    </tr>\n",
       "  </tbody>\n",
       "</table>\n",
       "</div>"
      ],
      "text/plain": [
       "       OSEBuildingID     DataYear  CouncilDistrictCode    YearBuilt  \\\n",
       "count    3318.000000  3318.000000          3318.000000  3318.000000   \n",
       "mean    15951.816154  2015.502712             4.365883  1961.536769   \n",
       "std     13411.897096     0.500068             2.195304    32.709772   \n",
       "min         1.000000  2015.000000             1.000000  1900.000000   \n",
       "25%       579.000000  2015.000000             2.000000  1930.000000   \n",
       "50%     21122.000000  2016.000000             4.000000  1965.000000   \n",
       "75%     24556.750000  2016.000000             7.000000  1989.000000   \n",
       "max     50226.000000  2016.000000             7.000000  2015.000000   \n",
       "\n",
       "       NumberofBuildings  NumberofFloors  PropertyGFATotal  \\\n",
       "count        3316.000000     3310.000000      3.318000e+03   \n",
       "mean            1.117310        4.126888      1.156672e+05   \n",
       "std             2.219845        6.567333      2.511222e+05   \n",
       "min             0.000000        0.000000      1.128500e+04   \n",
       "25%             1.000000        1.000000      2.951225e+04   \n",
       "50%             1.000000        2.000000      4.924600e+04   \n",
       "75%             1.000000        4.000000      1.047860e+05   \n",
       "max           111.000000       99.000000      9.320156e+06   \n",
       "\n",
       "       PropertyGFAParking  PropertyGFABuilding(s)  LargestPropertyUseTypeGFA  \\\n",
       "count         3318.000000            3.318000e+03               3.247000e+03   \n",
       "mean         13303.304702            1.023639e+05               9.539352e+04   \n",
       "std          43596.620504            2.340749e+05               2.274274e+05   \n",
       "min             -2.000000           -5.055000e+04               5.656000e+03   \n",
       "25%              0.000000            2.850775e+04               2.550000e+04   \n",
       "50%              0.000000            4.736800e+04               4.320000e+04   \n",
       "75%              0.000000            9.447150e+04               9.000000e+04   \n",
       "max         512608.000000            9.320156e+06               9.320156e+06   \n",
       "\n",
       "       SecondLargestPropertyUseTypeGFA  \n",
       "count                      1667.000000  \n",
       "mean                      36144.703237  \n",
       "std                       68243.536838  \n",
       "min                           0.000000  \n",
       "25%                        5400.000000  \n",
       "50%                       12102.000000  \n",
       "75%                       31190.500000  \n",
       "max                      686750.000000  "
      ]
     },
     "execution_count": 155,
     "metadata": {},
     "output_type": "execute_result"
    }
   ],
   "source": [
    "df_conso_aberr[['OSEBuildingID', 'DataYear', 'CouncilDistrictCode', 'YearBuilt',\n",
    "       'NumberofBuildings', 'NumberofFloors', 'PropertyGFATotal',\n",
    "       'PropertyGFAParking', 'PropertyGFABuilding(s)',\n",
    "       'LargestPropertyUseTypeGFA', 'SecondLargestPropertyUseTypeGFA']].describe()"
   ]
  },
  {
   "cell_type": "code",
   "execution_count": 156,
   "id": "fab21b40",
   "metadata": {},
   "outputs": [
    {
     "data": {
      "text/html": [
       "<div>\n",
       "<style scoped>\n",
       "    .dataframe tbody tr th:only-of-type {\n",
       "        vertical-align: middle;\n",
       "    }\n",
       "\n",
       "    .dataframe tbody tr th {\n",
       "        vertical-align: top;\n",
       "    }\n",
       "\n",
       "    .dataframe thead th {\n",
       "        text-align: right;\n",
       "    }\n",
       "</style>\n",
       "<table border=\"1\" class=\"dataframe\">\n",
       "  <thead>\n",
       "    <tr style=\"text-align: right;\">\n",
       "      <th></th>\n",
       "      <th>ENERGYSTARScore</th>\n",
       "      <th>SiteEUI(kBtu/sf)</th>\n",
       "      <th>SourceEUI(kBtu/sf)</th>\n",
       "      <th>SiteEnergyUse(kBtu)</th>\n",
       "      <th>SteamUse(kBtu)</th>\n",
       "      <th>Electricity(kBtu)</th>\n",
       "      <th>NaturalGas(kBtu)</th>\n",
       "      <th>TotalGHGEmissions</th>\n",
       "      <th>GHGEmissionsIntensity</th>\n",
       "      <th>Latitude</th>\n",
       "      <th>Longitude</th>\n",
       "      <th>ZipCode</th>\n",
       "    </tr>\n",
       "  </thead>\n",
       "  <tbody>\n",
       "    <tr>\n",
       "      <th>count</th>\n",
       "      <td>2211.000000</td>\n",
       "      <td>3308.000000</td>\n",
       "      <td>3309.000000</td>\n",
       "      <td>3.309000e+03</td>\n",
       "      <td>3.309000e+03</td>\n",
       "      <td>3.309000e+03</td>\n",
       "      <td>3.309000e+03</td>\n",
       "      <td>3309.000000</td>\n",
       "      <td>3309.000000</td>\n",
       "      <td>3318.000000</td>\n",
       "      <td>3318.000000</td>\n",
       "      <td>3302.000000</td>\n",
       "    </tr>\n",
       "    <tr>\n",
       "      <th>mean</th>\n",
       "      <td>64.815920</td>\n",
       "      <td>71.608343</td>\n",
       "      <td>175.440012</td>\n",
       "      <td>8.068625e+06</td>\n",
       "      <td>4.934034e+05</td>\n",
       "      <td>5.636556e+06</td>\n",
       "      <td>1.876485e+06</td>\n",
       "      <td>177.038779</td>\n",
       "      <td>1.479716</td>\n",
       "      <td>47.616006</td>\n",
       "      <td>-122.333051</td>\n",
       "      <td>98116.579952</td>\n",
       "    </tr>\n",
       "    <tr>\n",
       "      <th>std</th>\n",
       "      <td>28.549886</td>\n",
       "      <td>72.372179</td>\n",
       "      <td>180.787065</td>\n",
       "      <td>2.525462e+07</td>\n",
       "      <td>5.226678e+06</td>\n",
       "      <td>1.740900e+07</td>\n",
       "      <td>7.898387e+06</td>\n",
       "      <td>666.442480</td>\n",
       "      <td>2.214812</td>\n",
       "      <td>0.048102</td>\n",
       "      <td>0.024535</td>\n",
       "      <td>17.071800</td>\n",
       "    </tr>\n",
       "    <tr>\n",
       "      <th>min</th>\n",
       "      <td>1.000000</td>\n",
       "      <td>0.000000</td>\n",
       "      <td>-2.000000</td>\n",
       "      <td>0.000000e+00</td>\n",
       "      <td>0.000000e+00</td>\n",
       "      <td>-1.154170e+05</td>\n",
       "      <td>0.000000e+00</td>\n",
       "      <td>-0.800000</td>\n",
       "      <td>-0.020000</td>\n",
       "      <td>47.499170</td>\n",
       "      <td>-122.411820</td>\n",
       "      <td>98006.000000</td>\n",
       "    </tr>\n",
       "    <tr>\n",
       "      <th>25%</th>\n",
       "      <td>47.000000</td>\n",
       "      <td>33.200001</td>\n",
       "      <td>76.200000</td>\n",
       "      <td>1.223425e+06</td>\n",
       "      <td>0.000000e+00</td>\n",
       "      <td>7.236670e+05</td>\n",
       "      <td>0.000000e+00</td>\n",
       "      <td>19.720000</td>\n",
       "      <td>0.270000</td>\n",
       "      <td>47.585595</td>\n",
       "      <td>-122.343357</td>\n",
       "      <td>98104.000000</td>\n",
       "    </tr>\n",
       "    <tr>\n",
       "      <th>50%</th>\n",
       "      <td>72.000000</td>\n",
       "      <td>51.700000</td>\n",
       "      <td>131.300003</td>\n",
       "      <td>2.505271e+06</td>\n",
       "      <td>0.000000e+00</td>\n",
       "      <td>1.623657e+06</td>\n",
       "      <td>4.797690e+05</td>\n",
       "      <td>49.160000</td>\n",
       "      <td>0.780000</td>\n",
       "      <td>47.612313</td>\n",
       "      <td>-122.333019</td>\n",
       "      <td>98109.000000</td>\n",
       "    </tr>\n",
       "    <tr>\n",
       "      <th>75%</th>\n",
       "      <td>89.000000</td>\n",
       "      <td>81.699997</td>\n",
       "      <td>204.899994</td>\n",
       "      <td>6.917280e+06</td>\n",
       "      <td>0.000000e+00</td>\n",
       "      <td>4.878886e+06</td>\n",
       "      <td>1.471375e+06</td>\n",
       "      <td>138.870000</td>\n",
       "      <td>1.760000</td>\n",
       "      <td>47.649156</td>\n",
       "      <td>-122.321825</td>\n",
       "      <td>98122.000000</td>\n",
       "    </tr>\n",
       "    <tr>\n",
       "      <th>max</th>\n",
       "      <td>100.000000</td>\n",
       "      <td>834.400024</td>\n",
       "      <td>2620.000000</td>\n",
       "      <td>8.739237e+08</td>\n",
       "      <td>1.349435e+08</td>\n",
       "      <td>6.570744e+08</td>\n",
       "      <td>2.979090e+08</td>\n",
       "      <td>16870.980000</td>\n",
       "      <td>34.090000</td>\n",
       "      <td>47.733870</td>\n",
       "      <td>-122.258640</td>\n",
       "      <td>98199.000000</td>\n",
       "    </tr>\n",
       "  </tbody>\n",
       "</table>\n",
       "</div>"
      ],
      "text/plain": [
       "       ENERGYSTARScore  SiteEUI(kBtu/sf)  SourceEUI(kBtu/sf)  \\\n",
       "count      2211.000000       3308.000000         3309.000000   \n",
       "mean         64.815920         71.608343          175.440012   \n",
       "std          28.549886         72.372179          180.787065   \n",
       "min           1.000000          0.000000           -2.000000   \n",
       "25%          47.000000         33.200001           76.200000   \n",
       "50%          72.000000         51.700000          131.300003   \n",
       "75%          89.000000         81.699997          204.899994   \n",
       "max         100.000000        834.400024         2620.000000   \n",
       "\n",
       "       SiteEnergyUse(kBtu)  SteamUse(kBtu)  Electricity(kBtu)  \\\n",
       "count         3.309000e+03    3.309000e+03       3.309000e+03   \n",
       "mean          8.068625e+06    4.934034e+05       5.636556e+06   \n",
       "std           2.525462e+07    5.226678e+06       1.740900e+07   \n",
       "min           0.000000e+00    0.000000e+00      -1.154170e+05   \n",
       "25%           1.223425e+06    0.000000e+00       7.236670e+05   \n",
       "50%           2.505271e+06    0.000000e+00       1.623657e+06   \n",
       "75%           6.917280e+06    0.000000e+00       4.878886e+06   \n",
       "max           8.739237e+08    1.349435e+08       6.570744e+08   \n",
       "\n",
       "       NaturalGas(kBtu)  TotalGHGEmissions  GHGEmissionsIntensity  \\\n",
       "count      3.309000e+03        3309.000000            3309.000000   \n",
       "mean       1.876485e+06         177.038779               1.479716   \n",
       "std        7.898387e+06         666.442480               2.214812   \n",
       "min        0.000000e+00          -0.800000              -0.020000   \n",
       "25%        0.000000e+00          19.720000               0.270000   \n",
       "50%        4.797690e+05          49.160000               0.780000   \n",
       "75%        1.471375e+06         138.870000               1.760000   \n",
       "max        2.979090e+08       16870.980000              34.090000   \n",
       "\n",
       "          Latitude    Longitude       ZipCode  \n",
       "count  3318.000000  3318.000000   3302.000000  \n",
       "mean     47.616006  -122.333051  98116.579952  \n",
       "std       0.048102     0.024535     17.071800  \n",
       "min      47.499170  -122.411820  98006.000000  \n",
       "25%      47.585595  -122.343357  98104.000000  \n",
       "50%      47.612313  -122.333019  98109.000000  \n",
       "75%      47.649156  -122.321825  98122.000000  \n",
       "max      47.733870  -122.258640  98199.000000  "
      ]
     },
     "execution_count": 156,
     "metadata": {},
     "output_type": "execute_result"
    }
   ],
   "source": [
    "df_conso_aberr[['ENERGYSTARScore', 'SiteEUI(kBtu/sf)', 'SourceEUI(kBtu/sf)',\n",
    "       'SiteEnergyUse(kBtu)', 'SteamUse(kBtu)', 'Electricity(kBtu)',\n",
    "       'NaturalGas(kBtu)', 'TotalGHGEmissions', 'GHGEmissionsIntensity',\n",
    "       'Latitude', 'Longitude', 'ZipCode']].describe()"
   ]
  },
  {
   "cell_type": "markdown",
   "id": "496d570e",
   "metadata": {},
   "source": [
    "Les valeurs aberrantes seront celles ayant des valeurs negatives.Nous décidons de transformer ces aberrantes en valeurs manquantes:"
   ]
  },
  {
   "cell_type": "markdown",
   "id": "46299346",
   "metadata": {},
   "source": [
    "Listons ces features:"
   ]
  },
  {
   "cell_type": "code",
   "execution_count": 157,
   "id": "0e0abc47",
   "metadata": {},
   "outputs": [
    {
     "data": {
      "text/plain": [
       "['PropertyGFAParking',\n",
       " 'PropertyGFABuilding(s)',\n",
       " 'SourceEUI(kBtu/sf)',\n",
       " 'Electricity(kBtu)',\n",
       " 'TotalGHGEmissions',\n",
       " 'GHGEmissionsIntensity']"
      ]
     },
     "execution_count": 157,
     "metadata": {},
     "output_type": "execute_result"
    }
   ],
   "source": [
    "liste=['PropertyGFAParking','PropertyGFABuilding(s)','SourceEUI(kBtu/sf)','Electricity(kBtu)','TotalGHGEmissions',\n",
    "       'GHGEmissionsIntensity']\n",
    "liste"
   ]
  },
  {
   "cell_type": "markdown",
   "id": "365e8781",
   "metadata": {},
   "source": [
    "Définissons une fonction qui transforme les valeurs aberrantes en manquantes:"
   ]
  },
  {
   "cell_type": "code",
   "execution_count": 158,
   "id": "6c2cc685",
   "metadata": {},
   "outputs": [],
   "source": [
    "def valeurs_aber_neg(df,liste):\n",
    "    for i in liste:\n",
    "        mask=df[i]<0\n",
    "        df.loc[mask,i]=np.NaN\n",
    "    return df"
   ]
  },
  {
   "cell_type": "markdown",
   "id": "eabf8eb2",
   "metadata": {},
   "source": [
    "Transformons les valeurs aberrantes en manquantes:"
   ]
  },
  {
   "cell_type": "code",
   "execution_count": 159,
   "id": "7894d011",
   "metadata": {},
   "outputs": [],
   "source": [
    "df_conso_aberr=valeurs_aber_neg(df_conso_aberr,liste)"
   ]
  },
  {
   "cell_type": "markdown",
   "id": "2de1d896",
   "metadata": {},
   "source": [
    "Réanalysons ces features:"
   ]
  },
  {
   "cell_type": "code",
   "execution_count": 160,
   "id": "ba261cf8",
   "metadata": {},
   "outputs": [
    {
     "data": {
      "text/html": [
       "<div>\n",
       "<style scoped>\n",
       "    .dataframe tbody tr th:only-of-type {\n",
       "        vertical-align: middle;\n",
       "    }\n",
       "\n",
       "    .dataframe tbody tr th {\n",
       "        vertical-align: top;\n",
       "    }\n",
       "\n",
       "    .dataframe thead th {\n",
       "        text-align: right;\n",
       "    }\n",
       "</style>\n",
       "<table border=\"1\" class=\"dataframe\">\n",
       "  <thead>\n",
       "    <tr style=\"text-align: right;\">\n",
       "      <th></th>\n",
       "      <th>PropertyGFAParking</th>\n",
       "      <th>PropertyGFABuilding(s)</th>\n",
       "      <th>SourceEUI(kBtu/sf)</th>\n",
       "      <th>Electricity(kBtu)</th>\n",
       "      <th>TotalGHGEmissions</th>\n",
       "      <th>GHGEmissionsIntensity</th>\n",
       "    </tr>\n",
       "  </thead>\n",
       "  <tbody>\n",
       "    <tr>\n",
       "      <th>count</th>\n",
       "      <td>3317.000000</td>\n",
       "      <td>3.316000e+03</td>\n",
       "      <td>3308.000000</td>\n",
       "      <td>3.308000e+03</td>\n",
       "      <td>3308.000000</td>\n",
       "      <td>3308.000000</td>\n",
       "    </tr>\n",
       "    <tr>\n",
       "      <th>mean</th>\n",
       "      <td>13307.315948</td>\n",
       "      <td>1.024539e+05</td>\n",
       "      <td>175.493652</td>\n",
       "      <td>5.638294e+06</td>\n",
       "      <td>177.092539</td>\n",
       "      <td>1.480169</td>\n",
       "    </tr>\n",
       "    <tr>\n",
       "      <th>std</th>\n",
       "      <td>43602.581304</td>\n",
       "      <td>2.341167e+05</td>\n",
       "      <td>180.788060</td>\n",
       "      <td>1.741135e+07</td>\n",
       "      <td>666.536058</td>\n",
       "      <td>2.214993</td>\n",
       "    </tr>\n",
       "    <tr>\n",
       "      <th>min</th>\n",
       "      <td>0.000000</td>\n",
       "      <td>3.636000e+03</td>\n",
       "      <td>0.000000</td>\n",
       "      <td>0.000000e+00</td>\n",
       "      <td>0.000000</td>\n",
       "      <td>0.000000</td>\n",
       "    </tr>\n",
       "    <tr>\n",
       "      <th>25%</th>\n",
       "      <td>0.000000</td>\n",
       "      <td>2.853100e+04</td>\n",
       "      <td>76.275000</td>\n",
       "      <td>7.243368e+05</td>\n",
       "      <td>19.727500</td>\n",
       "      <td>0.270000</td>\n",
       "    </tr>\n",
       "    <tr>\n",
       "      <th>50%</th>\n",
       "      <td>0.000000</td>\n",
       "      <td>4.739150e+04</td>\n",
       "      <td>131.349998</td>\n",
       "      <td>1.624486e+06</td>\n",
       "      <td>49.165000</td>\n",
       "      <td>0.780000</td>\n",
       "    </tr>\n",
       "    <tr>\n",
       "      <th>75%</th>\n",
       "      <td>0.000000</td>\n",
       "      <td>9.447200e+04</td>\n",
       "      <td>204.999996</td>\n",
       "      <td>4.878943e+06</td>\n",
       "      <td>138.892500</td>\n",
       "      <td>1.760000</td>\n",
       "    </tr>\n",
       "    <tr>\n",
       "      <th>max</th>\n",
       "      <td>512608.000000</td>\n",
       "      <td>9.320156e+06</td>\n",
       "      <td>2620.000000</td>\n",
       "      <td>6.570744e+08</td>\n",
       "      <td>16870.980000</td>\n",
       "      <td>34.090000</td>\n",
       "    </tr>\n",
       "  </tbody>\n",
       "</table>\n",
       "</div>"
      ],
      "text/plain": [
       "       PropertyGFAParking  PropertyGFABuilding(s)  SourceEUI(kBtu/sf)  \\\n",
       "count         3317.000000            3.316000e+03         3308.000000   \n",
       "mean         13307.315948            1.024539e+05          175.493652   \n",
       "std          43602.581304            2.341167e+05          180.788060   \n",
       "min              0.000000            3.636000e+03            0.000000   \n",
       "25%              0.000000            2.853100e+04           76.275000   \n",
       "50%              0.000000            4.739150e+04          131.349998   \n",
       "75%              0.000000            9.447200e+04          204.999996   \n",
       "max         512608.000000            9.320156e+06         2620.000000   \n",
       "\n",
       "       Electricity(kBtu)  TotalGHGEmissions  GHGEmissionsIntensity  \n",
       "count       3.308000e+03        3308.000000            3308.000000  \n",
       "mean        5.638294e+06         177.092539               1.480169  \n",
       "std         1.741135e+07         666.536058               2.214993  \n",
       "min         0.000000e+00           0.000000               0.000000  \n",
       "25%         7.243368e+05          19.727500               0.270000  \n",
       "50%         1.624486e+06          49.165000               0.780000  \n",
       "75%         4.878943e+06         138.892500               1.760000  \n",
       "max         6.570744e+08       16870.980000              34.090000  "
      ]
     },
     "execution_count": 160,
     "metadata": {},
     "output_type": "execute_result"
    }
   ],
   "source": [
    "df_conso_aberr[liste].describe()"
   ]
  },
  {
   "cell_type": "markdown",
   "id": "b5703374",
   "metadata": {},
   "source": [
    "D'autre part le nombre de bâtiments et étages NumberofBuildings et NumberofFloors ne peuvent pas être égal 0,les valeurs remplissant cette condition seront considérées aberrantes transformer en valeurs  manquantes:"
   ]
  },
  {
   "cell_type": "markdown",
   "id": "f5ce2afc",
   "metadata": {},
   "source": [
    "Définissons une fonction qui transforme  ce types de valeurs aberrantes en manquantes"
   ]
  },
  {
   "cell_type": "code",
   "execution_count": 161,
   "id": "3ee2437f",
   "metadata": {},
   "outputs": [],
   "source": [
    "def valeurs_aber_null(df,liste):\n",
    "    for i in liste:\n",
    "        mask=df[i]== 0\n",
    "        df.loc[mask,i]=np.NaN\n",
    "    return df"
   ]
  },
  {
   "cell_type": "markdown",
   "id": "72cf2d03",
   "metadata": {},
   "source": [
    "Transformons les valeurs aberrantes en manquantes:"
   ]
  },
  {
   "cell_type": "code",
   "execution_count": 162,
   "id": "9f0113fb",
   "metadata": {},
   "outputs": [],
   "source": [
    "df_conso_aberr=valeurs_aber_null(df_conso_aberr,['NumberofBuildings','NumberofFloors'])"
   ]
  },
  {
   "cell_type": "markdown",
   "id": "05f6b118",
   "metadata": {},
   "source": [
    "Réanalysons ces features:"
   ]
  },
  {
   "cell_type": "code",
   "execution_count": 163,
   "id": "70f2c74a",
   "metadata": {},
   "outputs": [
    {
     "data": {
      "text/html": [
       "<div>\n",
       "<style scoped>\n",
       "    .dataframe tbody tr th:only-of-type {\n",
       "        vertical-align: middle;\n",
       "    }\n",
       "\n",
       "    .dataframe tbody tr th {\n",
       "        vertical-align: top;\n",
       "    }\n",
       "\n",
       "    .dataframe thead th {\n",
       "        text-align: right;\n",
       "    }\n",
       "</style>\n",
       "<table border=\"1\" class=\"dataframe\">\n",
       "  <thead>\n",
       "    <tr style=\"text-align: right;\">\n",
       "      <th></th>\n",
       "      <th>NumberofBuildings</th>\n",
       "      <th>NumberofFloors</th>\n",
       "    </tr>\n",
       "  </thead>\n",
       "  <tbody>\n",
       "    <tr>\n",
       "      <th>count</th>\n",
       "      <td>3264.000000</td>\n",
       "      <td>3289.000000</td>\n",
       "    </tr>\n",
       "    <tr>\n",
       "      <th>mean</th>\n",
       "      <td>1.135110</td>\n",
       "      <td>4.153238</td>\n",
       "    </tr>\n",
       "    <tr>\n",
       "      <th>std</th>\n",
       "      <td>2.232942</td>\n",
       "      <td>6.579959</td>\n",
       "    </tr>\n",
       "    <tr>\n",
       "      <th>min</th>\n",
       "      <td>1.000000</td>\n",
       "      <td>1.000000</td>\n",
       "    </tr>\n",
       "    <tr>\n",
       "      <th>25%</th>\n",
       "      <td>1.000000</td>\n",
       "      <td>1.000000</td>\n",
       "    </tr>\n",
       "    <tr>\n",
       "      <th>50%</th>\n",
       "      <td>1.000000</td>\n",
       "      <td>2.000000</td>\n",
       "    </tr>\n",
       "    <tr>\n",
       "      <th>75%</th>\n",
       "      <td>1.000000</td>\n",
       "      <td>4.000000</td>\n",
       "    </tr>\n",
       "    <tr>\n",
       "      <th>max</th>\n",
       "      <td>111.000000</td>\n",
       "      <td>99.000000</td>\n",
       "    </tr>\n",
       "  </tbody>\n",
       "</table>\n",
       "</div>"
      ],
      "text/plain": [
       "       NumberofBuildings  NumberofFloors\n",
       "count        3264.000000     3289.000000\n",
       "mean            1.135110        4.153238\n",
       "std             2.232942        6.579959\n",
       "min             1.000000        1.000000\n",
       "25%             1.000000        1.000000\n",
       "50%             1.000000        2.000000\n",
       "75%             1.000000        4.000000\n",
       "max           111.000000       99.000000"
      ]
     },
     "execution_count": 163,
     "metadata": {},
     "output_type": "execute_result"
    }
   ],
   "source": [
    "df_conso_aberr[['NumberofBuildings','NumberofFloors']].describe()"
   ]
  },
  {
   "cell_type": "markdown",
   "id": "74d5257c",
   "metadata": {},
   "source": [
    "### Traitement des valeurs manquantes"
   ]
  },
  {
   "cell_type": "code",
   "execution_count": 164,
   "id": "1a7d0f51",
   "metadata": {},
   "outputs": [],
   "source": [
    "df_conso_cleaned=df_conso_aberr.copy()"
   ]
  },
  {
   "cell_type": "markdown",
   "id": "35e93b00",
   "metadata": {},
   "source": [
    "Affichons le taux de remplissage des features:"
   ]
  },
  {
   "cell_type": "code",
   "execution_count": 165,
   "id": "a40310de",
   "metadata": {},
   "outputs": [
    {
     "data": {
      "text/plain": [
       "Comments                           3306\n",
       "Outlier                            3270\n",
       "YearsENERGYSTARCertified           3130\n",
       "ThirdLargestPropertyUseTypeGFA     2634\n",
       "ThirdLargestPropertyUseType        2634\n",
       "SecondLargestPropertyUseTypeGFA    1651\n",
       "SecondLargestPropertyUseType       1651\n",
       "ENERGYSTARScore                    1107\n",
       "LargestPropertyUseTypeGFA            71\n",
       "LargestPropertyUseType               71\n",
       "ListOfAllPropertyUseTypes            63\n",
       "NumberofBuildings                    54\n",
       "NumberofFloors                       29\n",
       "ZipCode                              16\n",
       "Electricity(kBtu)                    10\n",
       "SiteEUI(kBtu/sf)                     10\n",
       "GHGEmissionsIntensity                10\n",
       "TotalGHGEmissions                    10\n",
       "SourceEUI(kBtu/sf)                   10\n",
       "NaturalGas(kBtu)                      9\n",
       "SteamUse(kBtu)                        9\n",
       "SiteEnergyUse(kBtu)                   9\n",
       "PropertyGFABuilding(s)                2\n",
       "PropertyGFAParking                    1\n",
       "DefaultData                           1\n",
       "TaxParcelIdentificationNumber         1\n",
       "PropertyName                          0\n",
       "BuildingType                          0\n",
       "State                                 0\n",
       "City                                  0\n",
       "Address                               0\n",
       "Longitude                             0\n",
       "Latitude                              0\n",
       "PrimaryPropertyType                   0\n",
       "ComplianceStatus                      0\n",
       "PropertyGFATotal                      0\n",
       "YearBuilt                             0\n",
       "Neighborhood                          0\n",
       "CouncilDistrictCode                   0\n",
       "DataYear                              0\n",
       "OSEBuildingID                         0\n",
       "dtype: int64"
      ]
     },
     "execution_count": 165,
     "metadata": {},
     "output_type": "execute_result"
    }
   ],
   "source": [
    "df_nan=df_conso_cleaned.isna().sum().sort_values(ascending=False)\n",
    "df_nan"
   ]
  },
  {
   "cell_type": "markdown",
   "id": "04914da3",
   "metadata": {},
   "source": [
    "Il en découle le graphe suivant:"
   ]
  },
  {
   "cell_type": "code",
   "execution_count": 166,
   "id": "22073a69",
   "metadata": {},
   "outputs": [
    {
     "data": {
      "text/plain": [
       "<AxesSubplot:title={'center':'Taux de valeurs manquantes du jeu de données (%)'}>"
      ]
     },
     "execution_count": 166,
     "metadata": {},
     "output_type": "execute_result"
    },
    {
     "data": {
      "image/png": "[encoded data removed]",
      "text/plain": [
       "<Figure size 720x720 with 1 Axes>"
      ]
     },
     "metadata": {
      "needs_background": "light"
     },
     "output_type": "display_data"
    }
   ],
   "source": [
    "plt.figure(figsize=(10,10))\n",
    "plt.title('Taux de valeurs manquantes du jeu de données (%)')\n",
    "sns.barplot(x=df_nan.values/df_conso_cleaned.shape[0]*100, y=df_nan.index)"
   ]
  },
  {
   "cell_type": "markdown",
   "id": "80256fee",
   "metadata": {},
   "source": [
    "#### Suppression des features ayant un taux élevé de valeurs manquantes"
   ]
  },
  {
   "cell_type": "markdown",
   "id": "50579946",
   "metadata": {},
   "source": [
    "Définissons une fonction qui calcule de taux de valeurs manquantes des features:"
   ]
  },
  {
   "cell_type": "code",
   "execution_count": 167,
   "id": "a7646718",
   "metadata": {},
   "outputs": [],
   "source": [
    "def null_factor(df, tx):\n",
    "    null_rate = ((df.isnull().sum() / df.shape[0])*100).sort_values(ascending=False).reset_index()\n",
    "    null_rate.columns = ['Variable','Taux_de_Null']\n",
    "    high_null_rate = null_rate[null_rate.Taux_de_Null >= tx]\n",
    "    return high_null_rate"
   ]
  },
  {
   "cell_type": "markdown",
   "id": "cbc35daa",
   "metadata": {},
   "source": [
    "Affichons les variables ayant les plus haut taux de valeurs manquantes:"
   ]
  },
  {
   "cell_type": "code",
   "execution_count": 168,
   "id": "79ada2cd",
   "metadata": {},
   "outputs": [
    {
     "data": {
      "text/html": [
       "<div>\n",
       "<style scoped>\n",
       "    .dataframe tbody tr th:only-of-type {\n",
       "        vertical-align: middle;\n",
       "    }\n",
       "\n",
       "    .dataframe tbody tr th {\n",
       "        vertical-align: top;\n",
       "    }\n",
       "\n",
       "    .dataframe thead th {\n",
       "        text-align: right;\n",
       "    }\n",
       "</style>\n",
       "<table border=\"1\" class=\"dataframe\">\n",
       "  <thead>\n",
       "    <tr style=\"text-align: right;\">\n",
       "      <th></th>\n",
       "      <th>Variable</th>\n",
       "      <th>Taux_de_Null</th>\n",
       "    </tr>\n",
       "  </thead>\n",
       "  <tbody>\n",
       "    <tr>\n",
       "      <th>0</th>\n",
       "      <td>Comments</td>\n",
       "      <td>99.638336</td>\n",
       "    </tr>\n",
       "    <tr>\n",
       "      <th>1</th>\n",
       "      <td>Outlier</td>\n",
       "      <td>98.553345</td>\n",
       "    </tr>\n",
       "    <tr>\n",
       "      <th>2</th>\n",
       "      <td>YearsENERGYSTARCertified</td>\n",
       "      <td>94.333936</td>\n",
       "    </tr>\n",
       "  </tbody>\n",
       "</table>\n",
       "</div>"
      ],
      "text/plain": [
       "                   Variable  Taux_de_Null\n",
       "0                  Comments     99.638336\n",
       "1                   Outlier     98.553345\n",
       "2  YearsENERGYSTARCertified     94.333936"
      ]
     },
     "execution_count": 168,
     "metadata": {},
     "output_type": "execute_result"
    }
   ],
   "source": [
    "full_null_rate = null_factor(df_conso_cleaned, 80)\n",
    "full_null_rate"
   ]
  },
  {
   "cell_type": "markdown",
   "id": "fa3269bd",
   "metadata": {},
   "source": [
    "Eliminons les features ayant plus de 80% de NaN:"
   ]
  },
  {
   "cell_type": "code",
   "execution_count": 169,
   "id": "39eeee45",
   "metadata": {},
   "outputs": [],
   "source": [
    "df_conso_cleaned=df_conso_cleaned.drop(columns=['Comments','Outlier','YearsENERGYSTARCertified'])"
   ]
  },
  {
   "cell_type": "markdown",
   "id": "5f516784",
   "metadata": {},
   "source": [
    "Eliminons des lignes comportant que des NaN:"
   ]
  },
  {
   "cell_type": "code",
   "execution_count": 170,
   "id": "c4f369f6",
   "metadata": {},
   "outputs": [],
   "source": [
    "df_conso_cleaned.dropna(how = 'all', axis=0, inplace=True)"
   ]
  },
  {
   "cell_type": "markdown",
   "id": "f8ec1a45",
   "metadata": {},
   "source": [
    "#### Imputation des valeurs manquantes par 0"
   ]
  },
  {
   "cell_type": "markdown",
   "id": "3c24bc18",
   "metadata": {},
   "source": [
    "La plus part des secondes utlisations des bâtiments ont une superfie de 0, nous allons imputer les valeurs manquantes par zéro. Nous décidons également d'imputer les features liées à la consommation d'énergie par zéro."
   ]
  },
  {
   "cell_type": "markdown",
   "id": "ca6e6a2e",
   "metadata": {},
   "source": [
    "Listons ces variables:"
   ]
  },
  {
   "cell_type": "code",
   "execution_count": 171,
   "id": "ac76b090",
   "metadata": {},
   "outputs": [],
   "source": [
    "liste_nan_to_zero=['SecondLargestPropertyUseTypeGFA','ENERGYSTARScore','ThirdLargestPropertyUseTypeGFA',\n",
    "       'SiteEUI(kBtu/sf)', 'SourceEUI(kBtu/sf)', 'SiteEnergyUse(kBtu)','PropertyGFAParking','ZipCode',\n",
    "       'SteamUse(kBtu)', 'Electricity(kBtu)', 'NaturalGas(kBtu)','PropertyGFABuilding(s)','LargestPropertyUseTypeGFA',\n",
    "       'TotalGHGEmissions', 'GHGEmissionsIntensity']"
   ]
  },
  {
   "cell_type": "markdown",
   "id": "3de2c9de",
   "metadata": {},
   "source": [
    "Imputons les valeurs manquantes:"
   ]
  },
  {
   "cell_type": "code",
   "execution_count": 172,
   "id": "9c97dcc1",
   "metadata": {},
   "outputs": [],
   "source": [
    "df_conso_cleaned[liste_nan_to_zero] = df_conso_cleaned[liste_nan_to_zero].fillna(0)"
   ]
  },
  {
   "cell_type": "markdown",
   "id": "110f94d5",
   "metadata": {},
   "source": [
    "#### Imputation par unknown"
   ]
  },
  {
   "cell_type": "markdown",
   "id": "5a0a95b2",
   "metadata": {},
   "source": [
    "Nous décidons d'imputer les valeurs manquantes des features catégorielles par unknown:"
   ]
  },
  {
   "cell_type": "markdown",
   "id": "101fe129",
   "metadata": {},
   "source": [
    "Listons ces variables:"
   ]
  },
  {
   "cell_type": "code",
   "execution_count": 173,
   "id": "604d383e",
   "metadata": {},
   "outputs": [
    {
     "data": {
      "text/plain": [
       "['TaxParcelIdentificationNumber',\n",
       " 'ListOfAllPropertyUseTypes',\n",
       " 'LargestPropertyUseType',\n",
       " 'SecondLargestPropertyUseType',\n",
       " 'ThirdLargestPropertyUseType',\n",
       " 'DefaultData']"
      ]
     },
     "execution_count": 173,
     "metadata": {},
     "output_type": "execute_result"
    }
   ],
   "source": [
    "liste_nan_to_unknown=['TaxParcelIdentificationNumber','ListOfAllPropertyUseTypes','LargestPropertyUseType',\n",
    "           'SecondLargestPropertyUseType','ThirdLargestPropertyUseType','DefaultData']\n",
    "liste_nan_to_unknown"
   ]
  },
  {
   "cell_type": "markdown",
   "id": "d3d96c05",
   "metadata": {},
   "source": [
    "Imputons les valeurs manquantes:"
   ]
  },
  {
   "cell_type": "code",
   "execution_count": 174,
   "id": "a8bd59fb",
   "metadata": {},
   "outputs": [],
   "source": [
    "df_conso_cleaned[liste_nan_to_unknown] = df_conso_cleaned[liste_nan_to_unknown].fillna('unknown')"
   ]
  },
  {
   "cell_type": "markdown",
   "id": "f38735ea",
   "metadata": {},
   "source": [
    "#### Imputations par la valeur la plus fréquente"
   ]
  },
  {
   "cell_type": "markdown",
   "id": "d09af43a",
   "metadata": {},
   "source": [
    "Nous imputons les valeurs manquantes de nombre de bâtiments et d'étages par la valeur la plus fréquente:"
   ]
  },
  {
   "cell_type": "markdown",
   "id": "4e0f0f92",
   "metadata": {},
   "source": [
    "Listons ces variables:"
   ]
  },
  {
   "cell_type": "code",
   "execution_count": 175,
   "id": "9abfc2df",
   "metadata": {},
   "outputs": [
    {
     "data": {
      "text/plain": [
       "['NumberofFloors', 'NumberofBuildings']"
      ]
     },
     "execution_count": 175,
     "metadata": {},
     "output_type": "execute_result"
    }
   ],
   "source": [
    "liste_nan_to_mode=['NumberofFloors','NumberofBuildings']\n",
    "liste_nan_to_mode"
   ]
  },
  {
   "cell_type": "markdown",
   "id": "a49111e7",
   "metadata": {},
   "source": [
    "Définissons une founction qui impute les valeurs manquantes par la mode:"
   ]
  },
  {
   "cell_type": "code",
   "execution_count": 176,
   "id": "921b71f1",
   "metadata": {},
   "outputs": [],
   "source": [
    "def nan_to_mode(df, liste):\n",
    "    for col in liste:\n",
    "        df[col]=df[col].fillna(df[col].mode()[0])\n",
    "    return df"
   ]
  },
  {
   "cell_type": "markdown",
   "id": "8f5c0892",
   "metadata": {},
   "source": [
    "Imputons les valeurs manquantes:"
   ]
  },
  {
   "cell_type": "code",
   "execution_count": 177,
   "id": "48990f52",
   "metadata": {},
   "outputs": [],
   "source": [
    "df_conso_cleaned=nan_to_mode(df_conso_cleaned, liste_nan_to_mode)"
   ]
  },
  {
   "cell_type": "markdown",
   "id": "e5bdbf1b",
   "metadata": {},
   "source": [
    "Recontrollons les valeurs manquantes:"
   ]
  },
  {
   "cell_type": "code",
   "execution_count": 178,
   "id": "010fb6a1",
   "metadata": {},
   "outputs": [
    {
     "data": {
      "text/plain": [
       "OSEBuildingID                      0\n",
       "DataYear                           0\n",
       "BuildingType                       0\n",
       "PrimaryPropertyType                0\n",
       "PropertyName                       0\n",
       "TaxParcelIdentificationNumber      0\n",
       "CouncilDistrictCode                0\n",
       "Neighborhood                       0\n",
       "YearBuilt                          0\n",
       "NumberofBuildings                  0\n",
       "NumberofFloors                     0\n",
       "PropertyGFATotal                   0\n",
       "PropertyGFAParking                 0\n",
       "PropertyGFABuilding(s)             0\n",
       "ListOfAllPropertyUseTypes          0\n",
       "LargestPropertyUseType             0\n",
       "LargestPropertyUseTypeGFA          0\n",
       "SecondLargestPropertyUseType       0\n",
       "SecondLargestPropertyUseTypeGFA    0\n",
       "ThirdLargestPropertyUseType        0\n",
       "ThirdLargestPropertyUseTypeGFA     0\n",
       "ENERGYSTARScore                    0\n",
       "SiteEUI(kBtu/sf)                   0\n",
       "SourceEUI(kBtu/sf)                 0\n",
       "SiteEnergyUse(kBtu)                0\n",
       "SteamUse(kBtu)                     0\n",
       "Electricity(kBtu)                  0\n",
       "NaturalGas(kBtu)                   0\n",
       "TotalGHGEmissions                  0\n",
       "GHGEmissionsIntensity              0\n",
       "DefaultData                        0\n",
       "ComplianceStatus                   0\n",
       "Latitude                           0\n",
       "Longitude                          0\n",
       "Address                            0\n",
       "City                               0\n",
       "State                              0\n",
       "ZipCode                            0\n",
       "dtype: int64"
      ]
     },
     "execution_count": 178,
     "metadata": {},
     "output_type": "execute_result"
    }
   ],
   "source": [
    "df_conso_cleaned.isna().sum()"
   ]
  },
  {
   "cell_type": "markdown",
   "id": "f6afc1fe",
   "metadata": {},
   "source": [
    "#### Catégorisation des features"
   ]
  },
  {
   "cell_type": "markdown",
   "id": "482c9903",
   "metadata": {},
   "source": [
    "Transformons les types de features en catégories:"
   ]
  },
  {
   "cell_type": "markdown",
   "id": "f0a821af",
   "metadata": {},
   "source": [
    "Listons ces variables:"
   ]
  },
  {
   "cell_type": "code",
   "execution_count": 179,
   "id": "aaabf5dd",
   "metadata": {},
   "outputs": [
    {
     "data": {
      "text/plain": [
       "['BuildingType', 'CouncilDistrictCode', 'ComplianceStatus', 'Neighborhood']"
      ]
     },
     "execution_count": 179,
     "metadata": {},
     "output_type": "execute_result"
    }
   ],
   "source": [
    "liste_to_categorize = ['BuildingType', 'CouncilDistrictCode',\n",
    "                        'ComplianceStatus', 'Neighborhood']\n",
    "liste_to_categorize"
   ]
  },
  {
   "cell_type": "markdown",
   "id": "359d95f8",
   "metadata": {},
   "source": [
    "Catégorisons nos features:"
   ]
  },
  {
   "cell_type": "code",
   "execution_count": 180,
   "id": "f1d72c30",
   "metadata": {},
   "outputs": [],
   "source": [
    "df_conso_cleaned[liste_to_categorize] = df_conso_cleaned[liste_to_categorize].astype('category')"
   ]
  },
  {
   "cell_type": "markdown",
   "id": "06b459d7",
   "metadata": {},
   "source": [
    "Affichons les features par catégories:"
   ]
  },
  {
   "cell_type": "code",
   "execution_count": 181,
   "id": "02dc8e78",
   "metadata": {},
   "outputs": [
    {
     "data": {
      "text/plain": [
       "PropertyName                     3204\n",
       "Address                          3117\n",
       "TaxParcelIdentificationNumber    1836\n",
       "ListOfAllPropertyUseTypes         388\n",
       "LargestPropertyUseType             58\n",
       "SecondLargestPropertyUseType       48\n",
       "ThirdLargestPropertyUseType        41\n",
       "PrimaryPropertyType                30\n",
       "Neighborhood                       19\n",
       "CouncilDistrictCode                 7\n",
       "BuildingType                        5\n",
       "DefaultData                         5\n",
       "ComplianceStatus                    4\n",
       "City                                2\n",
       "State                               1\n",
       "dtype: int64"
      ]
     },
     "execution_count": 181,
     "metadata": {},
     "output_type": "execute_result"
    }
   ],
   "source": [
    "df_conso_cleaned.select_dtypes(['object', 'category']).nunique().sort_values(ascending=False)"
   ]
  },
  {
   "cell_type": "markdown",
   "id": "a4ec9a2b",
   "metadata": {},
   "source": [
    "#### Regroupement par catégories"
   ]
  },
  {
   "cell_type": "markdown",
   "id": "3f0dc2d6",
   "metadata": {},
   "source": [
    "Listons catégories d'utlisation des bâtiments:"
   ]
  },
  {
   "cell_type": "code",
   "execution_count": 182,
   "id": "8c34e101",
   "metadata": {},
   "outputs": [
    {
     "data": {
      "text/plain": [
       "['LargestPropertyUseType',\n",
       " 'PrimaryPropertyType',\n",
       " 'SecondLargestPropertyUseType',\n",
       " 'ThirdLargestPropertyUseType']"
      ]
     },
     "execution_count": 182,
     "metadata": {},
     "output_type": "execute_result"
    }
   ],
   "source": [
    "liste_property_use_types = ['LargestPropertyUseType',\n",
    "                              'PrimaryPropertyType',\n",
    "                              'SecondLargestPropertyUseType',\n",
    "                              'ThirdLargestPropertyUseType']\n",
    "liste_property_use_types"
   ]
  },
  {
   "cell_type": "markdown",
   "id": "eaef14e0",
   "metadata": {},
   "source": [
    "Listons les utlisations des bâtiments:"
   ]
  },
  {
   "cell_type": "code",
   "execution_count": 183,
   "id": "3f74085f",
   "metadata": {},
   "outputs": [
    {
     "data": {
      "text/plain": [
       "array(['Hotel', 'Police Station', 'Other - Entertainment/Public Assembly',\n",
       "       'unknown', 'Library', 'Fitness Center/Health Club/Gym',\n",
       "       'Social/Meeting Hall', 'Courthouse', 'Other', 'K-12 School',\n",
       "       'College/University', 'Automobile Dealership', 'Office',\n",
       "       'Self-Storage Facility', 'Retail Store', 'Senior Care Community',\n",
       "       'Medical Office', 'Hospital (General Medical & Surgical)',\n",
       "       'Museum', 'Repair Services (Vehicle, Shoe, Locksmith, etc)',\n",
       "       'Other - Lodging/Residential', 'Residence Hall/Dormitory',\n",
       "       'Other/Specialty Hospital', 'Financial Office',\n",
       "       'Non-Refrigerated Warehouse', 'Distribution Center', 'Parking',\n",
       "       'Multifamily Housing', 'Worship Facility', 'Laboratory',\n",
       "       'Supermarket/Grocery Store', 'Convention Center',\n",
       "       'Urgent Care/Clinic/Other Outpatient', 'Other - Services',\n",
       "       'Strip Mall', 'Wholesale Club/Supercenter',\n",
       "       'Refrigerated Warehouse', 'Other - Recreation', 'Lifestyle Center',\n",
       "       'Other - Public Services', 'Data Center', 'Other - Mall',\n",
       "       'Manufacturing/Industrial Plant', 'Restaurant',\n",
       "       'Other - Education', 'Fire Station', 'Performing Arts',\n",
       "       'Residential Care Facility', 'Bank Branch',\n",
       "       'Other - Restaurant/Bar', 'Food Service', 'Adult Education',\n",
       "       'Other - Utility', 'Movie Theater',\n",
       "       'Outpatient Rehabilitation/Physical Therapy',\n",
       "       'Personal Services (Health/Beauty, Dry Cleaning, etc)',\n",
       "       'Pre-school/Daycare', 'Prison/Incarceration'], dtype=object)"
      ]
     },
     "execution_count": 183,
     "metadata": {},
     "output_type": "execute_result"
    }
   ],
   "source": [
    "df_conso_cleaned['LargestPropertyUseType'].unique()"
   ]
  },
  {
   "cell_type": "code",
   "execution_count": 184,
   "id": "7dc7dc7b",
   "metadata": {},
   "outputs": [
    {
     "data": {
      "text/plain": [
       "array(['Hotel', 'Other', 'Mixed Use Property', 'K-12 School',\n",
       "       'College/University', 'Small- and Mid-Sized Office',\n",
       "       'Self-Storage Facility\\n', 'Distribution Center', 'Large Office',\n",
       "       'Retail Store', 'Senior Care Community', 'Medical Office',\n",
       "       'Hospital', 'Residence Hall/Dormitory',\n",
       "       'Non-Refrigerated Warehouse', 'Distribution Center\\n',\n",
       "       'SPS-District K-12', 'Worship Facility',\n",
       "       'Supermarket/Grocery Store', 'Laboratory', 'Self-Storage Facility',\n",
       "       'Refrigerated Warehouse', 'Restaurant\\n', 'Low-Rise Multifamily',\n",
       "       'Restaurant', 'University', 'Warehouse', 'Residence Hall',\n",
       "       'Supermarket / Grocery Store', 'Office'], dtype=object)"
      ]
     },
     "execution_count": 184,
     "metadata": {},
     "output_type": "execute_result"
    }
   ],
   "source": [
    "df_conso_cleaned['PrimaryPropertyType'].unique()"
   ]
  },
  {
   "cell_type": "code",
   "execution_count": 185,
   "id": "b1322071",
   "metadata": {},
   "outputs": [
    {
     "data": {
      "text/plain": [
       "array(['unknown', 'Parking', 'Office', 'Restaurant', 'K-12 School',\n",
       "       'Non-Refrigerated Warehouse', 'Other - Education',\n",
       "       'Vocational School', 'Retail Store',\n",
       "       'Other - Entertainment/Public Assembly', 'Data Center',\n",
       "       'Swimming Pool', 'Other', 'Courthouse', 'Residence Hall/Dormitory',\n",
       "       'Distribution Center', 'Self-Storage Facility', 'Other - Services',\n",
       "       'Laboratory', 'Movie Theater', 'Supermarket/Grocery Store',\n",
       "       'Medical Office', 'Other - Recreation',\n",
       "       'Convenience Store without Gas Station',\n",
       "       'Fitness Center/Health Club/Gym', 'Performing Arts',\n",
       "       'College/University', 'Other - Restaurant/Bar', 'Adult Education',\n",
       "       'Multifamily Housing', 'Bar/Nightclub', 'Financial Office',\n",
       "       'Repair Services (Vehicle, Shoe, Locksmith, etc)',\n",
       "       'Other - Lodging/Residential', 'Bank Branch',\n",
       "       'Refrigerated Warehouse', 'Hotel', 'Food Sales',\n",
       "       'Other - Public Services', 'Food Service', 'Worship Facility',\n",
       "       'Manufacturing/Industrial Plant', 'Social/Meeting Hall',\n",
       "       'Hospital (General Medical & Surgical)', 'Automobile Dealership',\n",
       "       'Personal Services (Health/Beauty, Dry Cleaning, etc)',\n",
       "       'Enclosed Mall', 'Pre-school/Daycare'], dtype=object)"
      ]
     },
     "execution_count": 185,
     "metadata": {},
     "output_type": "execute_result"
    }
   ],
   "source": [
    "df_conso_cleaned['SecondLargestPropertyUseType'].unique()"
   ]
  },
  {
   "cell_type": "code",
   "execution_count": 186,
   "id": "1f29a3e8",
   "metadata": {},
   "outputs": [
    {
     "data": {
      "text/plain": [
       "array(['unknown', 'Restaurant', 'Swimming Pool', 'Data Center', 'Office',\n",
       "       'Retail Store', 'Other - Entertainment/Public Assembly', 'Other',\n",
       "       'Distribution Center', 'Food Service', 'Other - Services',\n",
       "       'Medical Office', 'Parking', 'K-12 School',\n",
       "       'Fitness Center/Health Club/Gym', 'Social/Meeting Hall',\n",
       "       'Pre-school/Daycare', 'Convenience Store without Gas Station',\n",
       "       'Financial Office', 'Non-Refrigerated Warehouse',\n",
       "       'Other - Restaurant/Bar', 'Other - Education',\n",
       "       'Multifamily Housing', 'Laboratory', 'Bank Branch', 'Hotel',\n",
       "       'Other - Recreation',\n",
       "       'Personal Services (Health/Beauty, Dry Cleaning, etc)',\n",
       "       'Self-Storage Facility', 'Other - Technology/Science',\n",
       "       'Refrigerated Warehouse', 'Manufacturing/Industrial Plant',\n",
       "       'Bar/Nightclub', 'Other/Specialty Hospital',\n",
       "       'Fast Food Restaurant', 'Worship Facility',\n",
       "       'Supermarket/Grocery Store', 'Enclosed Mall', 'Other - Utility',\n",
       "       'Strip Mall', 'Vocational School'], dtype=object)"
      ]
     },
     "execution_count": 186,
     "metadata": {},
     "output_type": "execute_result"
    }
   ],
   "source": [
    "df_conso_cleaned['ThirdLargestPropertyUseType'].unique()"
   ]
  },
  {
   "cell_type": "markdown",
   "id": "6e45dd1a",
   "metadata": {},
   "source": [
    "Créons un dictionnaire pour regrouper les utilisations de bâtiments:"
   ]
  },
  {
   "cell_type": "code",
   "execution_count": 187,
   "id": "9d77bdb6",
   "metadata": {},
   "outputs": [],
   "source": [
    "usetype_dict = {'Retail Store' : 'Retail',\n",
    "                'Supermarket/Grocery Store' : 'Retail',\n",
    "                'Repair Services (Vehicle, Shoe, Locksmith, etc)' : 'Retail',\n",
    "                'Automobile Dealership': 'Retail',\n",
    "                'Convenience Store without Gas Station': 'Retail',\n",
    "                'Personal Services': 'Retail',\n",
    "                'Enclosed Mall': 'Retail',\n",
    "                'Strip Mall': 'Retail',\n",
    "                'Wholesale Club/Supercenter': 'Retail',\n",
    "                'Other - Mall': 'Retail',\n",
    "                'Supermarket / Grocery Stor': 'Retail',\n",
    "                'Automobile Dealership':'Retail',\n",
    "                \n",
    "                'Food Sales' : 'Recreation',\n",
    "                'Restaurant' : 'Recreation',\n",
    "                'Other - Restaurant/Bar' : 'Recreation',\n",
    "                'Food Service': 'Recreation' ,\n",
    "                'Worship Facility': 'Recreation',\n",
    "                'Other - Recreation': 'Recreation',\n",
    "                'Other - Entertainment/Public Assembly': 'Recreation',\n",
    "                'Performing Arts': 'Recreation',\n",
    "                'Bar/Nightclub': 'Recreation',\n",
    "                'Movie Theater': 'Recreation',\n",
    "                'Museum': 'Recreation',\n",
    "                'Social/Meeting Hall': 'Recreation',\n",
    "                'Fitness Center/Health Club/Gym': 'Recreation',\n",
    "                'Lifestyle Center': 'Recreation',\n",
    "                'Fast Food Restaurant': 'Recreation',\n",
    "                'Convention Center': 'Recreation',\n",
    "                \n",
    "                'Multifamily Housing' : 'Hotel/Senior Care/Housing',\n",
    "                'Other - Lodging/Residential': 'Hotel/Senior Care/Housing',\n",
    "                'Residence Hall/Dormitory': 'Hotel/Senior Care/Housing',\n",
    "                'Hotel' : 'Hotel/Senior Care/Housing',\n",
    "                'Senior Care Community' : 'Hotel/Senior Care/Housing',\n",
    "                'Residential Care Facility' : 'Hotel/Senior Care/Housing',\n",
    "                'High-Rise Multifamily': 'Hotel/Senior Care/Housing',\n",
    "                \n",
    "                'Medical Office' : 'Health',\n",
    "                'Hospital (General Medical & Surgical)':'Health',\n",
    "                'Other/Specialty Hospital':'Health',\n",
    "                'Hospital':'Health',\n",
    "                'Personal Services (Health/Beauty, Dry Cleaning, etc)':'Health',\n",
    "                'Outpatient Rehabilitation/Physical Therapy':'Health',\n",
    "                \n",
    "                'Other - Services' : 'Office',\n",
    "                'Bank Branch' : 'Office',\n",
    "                'Large Office':'Office',\n",
    "                'Courthouse':'Office',\n",
    "                'Police Station':'Office',\n",
    "                'Self-Storage Facility':'Office',\n",
    "                'Financial Office' : 'Office',\n",
    "                'Other - Public Services': 'Office',\n",
    "                'Fire Station': 'Office',\n",
    "                \n",
    "                'Prison/Incarceration': 'prison',\n",
    "\n",
    "                'K-12 School' : 'Education',\n",
    "                'Other - Education': 'Education',\n",
    "                'Vocational School' : 'Education', \n",
    "                'Adult Education' : 'Education',\n",
    "                'Pre-school/Daycare': 'Education',\n",
    "                'University': 'Education',\n",
    "                'College/University': 'Education',\n",
    "                'Library': 'Education'\n",
    "               }"
   ]
  },
  {
   "cell_type": "markdown",
   "id": "a62828b1",
   "metadata": {},
   "source": [
    "Regroupons les utilisations des bâtiments par catégories:"
   ]
  },
  {
   "cell_type": "code",
   "execution_count": 188,
   "id": "7ce83686",
   "metadata": {},
   "outputs": [],
   "source": [
    "for col in liste_property_use_types:\n",
    "    df_conso_cleaned[col] = df_conso_cleaned[col].replace(usetype_dict)"
   ]
  },
  {
   "cell_type": "markdown",
   "id": "d31f26c9",
   "metadata": {},
   "source": [
    "Visualissons les utilisations des bâtiments par catégories:"
   ]
  },
  {
   "cell_type": "code",
   "execution_count": 189,
   "id": "55a2aae2",
   "metadata": {},
   "outputs": [
    {
     "name": "stdout",
     "output_type": "stream",
     "text": [
      "Office                                 1064\n",
      "Non-Refrigerated Warehouse              393\n",
      "Education                               343\n",
      "Retail                                  320\n",
      "Recreation                              317\n",
      "Hotel/Senior Care/Housing               256\n",
      "Other                                   198\n",
      "Health                                  114\n",
      "Distribution Center                     106\n",
      "unknown                                  71\n",
      "Parking                                  56\n",
      "Refrigerated Warehouse                   24\n",
      "Laboratory                               22\n",
      "Manufacturing/Industrial Plant           14\n",
      "Urgent Care/Clinic/Other Outpatient       8\n",
      "Data Center                               5\n",
      "Other - Utility                           4\n",
      "prison                                    3\n",
      "Name: LargestPropertyUseType, dtype: int64\n",
      "\n",
      "\n",
      "Small- and Mid-Sized Office    588\n",
      "Other                          502\n",
      "Office                         376\n",
      "Education                      320\n",
      "Retail                         227\n",
      "Mixed Use Property             220\n",
      "Hotel/Senior Care/Housing      203\n",
      "Warehouse                      187\n",
      "Non-Refrigerated Warehouse     187\n",
      "Recreation                     156\n",
      "Health                         102\n",
      "Distribution Center             55\n",
      "Distribution Center\\n           51\n",
      "Supermarket / Grocery Store     40\n",
      "Self-Storage Facility\\n         27\n",
      "Refrigerated Warehouse          25\n",
      "Residence Hall                  21\n",
      "Laboratory                      11\n",
      "Restaurant\\n                    11\n",
      "Low-Rise Multifamily             5\n",
      "SPS-District K-12                4\n",
      "Name: PrimaryPropertyType, dtype: int64\n",
      "\n",
      "\n",
      "unknown                           1651\n",
      "Parking                            649\n",
      "Office                             377\n",
      "Retail                             205\n",
      "Recreation                         142\n",
      "Other                               87\n",
      "Non-Refrigerated Warehouse          62\n",
      "Hotel/Senior Care/Housing           34\n",
      "Data Center                         26\n",
      "Education                           23\n",
      "Health                              20\n",
      "Distribution Center                 14\n",
      "Laboratory                          14\n",
      "Swimming Pool                        7\n",
      "Manufacturing/Industrial Plant       4\n",
      "Refrigerated Warehouse               3\n",
      "Name: SecondLargestPropertyUseType, dtype: int64\n",
      "\n",
      "\n",
      "unknown                           2634\n",
      "Recreation                         130\n",
      "Office                             121\n",
      "Retail                             100\n",
      "Parking                             89\n",
      "Other                               82\n",
      "Non-Refrigerated Warehouse          29\n",
      "Data Center                         24\n",
      "Health                              24\n",
      "Hotel/Senior Care/Housing           24\n",
      "Education                           21\n",
      "Swimming Pool                       19\n",
      "Distribution Center                  6\n",
      "Laboratory                           4\n",
      "Refrigerated Warehouse               4\n",
      "Other - Technology/Science           3\n",
      "Manufacturing/Industrial Plant       3\n",
      "Other - Utility                      1\n",
      "Name: ThirdLargestPropertyUseType, dtype: int64\n",
      "\n",
      "\n"
     ]
    }
   ],
   "source": [
    "for col in df_conso_cleaned[liste_property_use_types].columns:\n",
    "    print(df_conso_cleaned[col].value_counts())\n",
    "    print('\\n')"
   ]
  },
  {
   "cell_type": "markdown",
   "id": "e17cf04e",
   "metadata": {},
   "source": [
    "Eliminons les \\n contenus dans certaines utilisations des bâtiments:"
   ]
  },
  {
   "cell_type": "code",
   "execution_count": 190,
   "id": "480eab93",
   "metadata": {},
   "outputs": [],
   "source": [
    "df_conso_cleaned['PrimaryPropertyType'] = df_conso_cleaned['PrimaryPropertyType'].str.replace('\\n','')"
   ]
  },
  {
   "cell_type": "markdown",
   "id": "d67aa3d9",
   "metadata": {},
   "source": [
    "Visualissons les utilisations des bâtiments par catégories:"
   ]
  },
  {
   "cell_type": "code",
   "execution_count": 191,
   "id": "72f7722f",
   "metadata": {},
   "outputs": [
    {
     "name": "stdout",
     "output_type": "stream",
     "text": [
      "LargestPropertyUseType :\n",
      "Office                                 1064\n",
      "Non-Refrigerated Warehouse              393\n",
      "Education                               343\n",
      "Retail                                  320\n",
      "Recreation                              317\n",
      "Hotel/Senior Care/Housing               256\n",
      "Other                                   198\n",
      "Health                                  114\n",
      "Distribution Center                     106\n",
      "unknown                                  71\n",
      "Parking                                  56\n",
      "Refrigerated Warehouse                   24\n",
      "Laboratory                               22\n",
      "Manufacturing/Industrial Plant           14\n",
      "Urgent Care/Clinic/Other Outpatient       8\n",
      "Data Center                               5\n",
      "Other - Utility                           4\n",
      "prison                                    3\n",
      "Name: LargestPropertyUseType, dtype: int64 \n",
      "\n",
      "PrimaryPropertyType :\n",
      "Small- and Mid-Sized Office    588\n",
      "Other                          502\n",
      "Office                         376\n",
      "Education                      320\n",
      "Retail                         227\n",
      "Mixed Use Property             220\n",
      "Hotel/Senior Care/Housing      203\n",
      "Warehouse                      187\n",
      "Non-Refrigerated Warehouse     187\n",
      "Recreation                     156\n",
      "Distribution Center            106\n",
      "Health                         102\n",
      "Supermarket / Grocery Store     40\n",
      "Self-Storage Facility           27\n",
      "Refrigerated Warehouse          25\n",
      "Residence Hall                  21\n",
      "Laboratory                      11\n",
      "Restaurant                      11\n",
      "Low-Rise Multifamily             5\n",
      "SPS-District K-12                4\n",
      "Name: PrimaryPropertyType, dtype: int64 \n",
      "\n",
      "SecondLargestPropertyUseType :\n",
      "unknown                           1651\n",
      "Parking                            649\n",
      "Office                             377\n",
      "Retail                             205\n",
      "Recreation                         142\n",
      "Other                               87\n",
      "Non-Refrigerated Warehouse          62\n",
      "Hotel/Senior Care/Housing           34\n",
      "Data Center                         26\n",
      "Education                           23\n",
      "Health                              20\n",
      "Distribution Center                 14\n",
      "Laboratory                          14\n",
      "Swimming Pool                        7\n",
      "Manufacturing/Industrial Plant       4\n",
      "Refrigerated Warehouse               3\n",
      "Name: SecondLargestPropertyUseType, dtype: int64 \n",
      "\n",
      "ThirdLargestPropertyUseType :\n",
      "unknown                           2634\n",
      "Recreation                         130\n",
      "Office                             121\n",
      "Retail                             100\n",
      "Parking                             89\n",
      "Other                               82\n",
      "Non-Refrigerated Warehouse          29\n",
      "Data Center                         24\n",
      "Health                              24\n",
      "Hotel/Senior Care/Housing           24\n",
      "Education                           21\n",
      "Swimming Pool                       19\n",
      "Distribution Center                  6\n",
      "Laboratory                           4\n",
      "Refrigerated Warehouse               4\n",
      "Other - Technology/Science           3\n",
      "Manufacturing/Industrial Plant       3\n",
      "Other - Utility                      1\n",
      "Name: ThirdLargestPropertyUseType, dtype: int64 \n",
      "\n"
     ]
    }
   ],
   "source": [
    "for col in df_conso_cleaned[liste_property_use_types].columns:\n",
    "    print(df_conso_cleaned[col].name, ':')\n",
    "    print(df_conso_cleaned[col].value_counts(),'\\n')"
   ]
  },
  {
   "cell_type": "markdown",
   "id": "51374772",
   "metadata": {},
   "source": [
    "## Exploration du jeu de données"
   ]
  },
  {
   "cell_type": "code",
   "execution_count": 192,
   "id": "bb8eb9b6",
   "metadata": {},
   "outputs": [],
   "source": [
    "df_conso_explo=df_conso_cleaned.copy()"
   ]
  },
  {
   "cell_type": "markdown",
   "id": "b5ff6d6e",
   "metadata": {},
   "source": [
    "Réindexation du jeu de données:"
   ]
  },
  {
   "cell_type": "code",
   "execution_count": 193,
   "id": "142457f4",
   "metadata": {},
   "outputs": [],
   "source": [
    "df_conso_explo=df_conso_explo.reset_index(drop = True)"
   ]
  },
  {
   "cell_type": "markdown",
   "id": "c1f86dd0",
   "metadata": {},
   "source": [
    "### Analyse uni-variée"
   ]
  },
  {
   "cell_type": "markdown",
   "id": "2fef0949",
   "metadata": {},
   "source": [
    "#### SiteEnergyUse(kBtu)"
   ]
  },
  {
   "cell_type": "markdown",
   "id": "a47a0cc4",
   "metadata": {},
   "source": [
    "Visualissons la quantité annuelle d'énergie consommée par la propriété entre 2015 et 2016:"
   ]
  },
  {
   "cell_type": "code",
   "execution_count": 194,
   "id": "8a017b67",
   "metadata": {},
   "outputs": [
    {
     "data": {
      "image/png": "[encoded data removed]",
      "text/plain": [
       "<Figure size 709.5x432 with 1 Axes>"
      ]
     },
     "metadata": {
      "needs_background": "light"
     },
     "output_type": "display_data"
    }
   ],
   "source": [
    "fig=sns.displot(data=df_conso_explo, x=\"SiteEnergyUse(kBtu)\", hue=\"DataYear\",element=\"step\",\n",
    "                 palette='bright', height=6, aspect=1.5)\n",
    "fig.set(title=\"Quantité annuelle d'énergie consommée par bâtiments en 2015-2016\")\n",
    "xlim=plt.xlim(0,0.8e8)"
   ]
  },
  {
   "cell_type": "markdown",
   "id": "65ebc222",
   "metadata": {},
   "source": [
    "La consommation d'energie par bâtiments a légèrement augmentée en 2016."
   ]
  },
  {
   "cell_type": "markdown",
   "id": "809f2000",
   "metadata": {},
   "source": [
    "#### TotalGHGEmissions "
   ]
  },
  {
   "cell_type": "markdown",
   "id": "dd7dc57b",
   "metadata": {},
   "source": [
    "Analysons les variations des emissions de cos entre 2015 et 2016:"
   ]
  },
  {
   "cell_type": "code",
   "execution_count": 195,
   "id": "e3738250",
   "metadata": {},
   "outputs": [
    {
     "data": {
      "image/png": "[encoded data removed]",
      "text/plain": [
       "<Figure size 709.5x432 with 1 Axes>"
      ]
     },
     "metadata": {
      "needs_background": "light"
     },
     "output_type": "display_data"
    }
   ],
   "source": [
    "fig=sns.displot(data=df_conso_explo, x=\"TotalGHGEmissions\", hue=\"DataYear\",element=\"step\",\n",
    "                 palette='bright', height=6, aspect=1.5)\n",
    "title=fig.set(title=\" Total des émissions en 2015-2016\")\n",
    "xlim=plt.xlim(0,1500)"
   ]
  },
  {
   "cell_type": "markdown",
   "id": "7394b84b",
   "metadata": {},
   "source": [
    "Les emissions de CO2 entre ces deux années sont plus ou moins homogénes avec toute une légere amélioration des scores en 2016."
   ]
  },
  {
   "cell_type": "markdown",
   "id": "fc79750a",
   "metadata": {},
   "source": [
    "#### BuildingType"
   ]
  },
  {
   "cell_type": "markdown",
   "id": "dfafccb6",
   "metadata": {},
   "source": [
    "Visualisons la répartition des bâtiments par catégories:"
   ]
  },
  {
   "cell_type": "code",
   "execution_count": 196,
   "id": "206654ce",
   "metadata": {},
   "outputs": [
    {
     "data": {
      "image/png": "[encoded data removed]",
      "text/plain": [
       "<Figure size 576x720 with 1 Axes>"
      ]
     },
     "metadata": {},
     "output_type": "display_data"
    }
   ],
   "source": [
    "comptage_type_building = df_conso_explo['BuildingType'].value_counts()\n",
    "colors = sns.color_palette('bright')\n",
    "plt.figure(figsize=(8, 10))\n",
    "plt.pie(comptage_type_building.values, labels=comptage_type_building.index,colors = colors, autopct = '%0.0f%%')\n",
    "title=plt.title(\"Répartition des bâtiments par catégories\" , fontsize=14)"
   ]
  },
  {
   "cell_type": "markdown",
   "id": "60c39794",
   "metadata": {},
   "source": [
    "Les bâtiments de type NonResidential sont de loin les plus representés."
   ]
  },
  {
   "cell_type": "markdown",
   "id": "b4c5853c",
   "metadata": {},
   "source": [
    "#### PrimaryPropertyType"
   ]
  },
  {
   "cell_type": "markdown",
   "id": "4eabedfd",
   "metadata": {},
   "source": [
    "Visualisons les utilisations principales des bâtiments:"
   ]
  },
  {
   "cell_type": "code",
   "execution_count": 197,
   "id": "2a5f51fc",
   "metadata": {},
   "outputs": [
    {
     "data": {
      "image/png": "[encoded data removed]",
      "text/plain": [
       "<Figure size 864x576 with 1 Axes>"
      ]
     },
     "metadata": {
      "needs_background": "light"
     },
     "output_type": "display_data"
    }
   ],
   "source": [
    "comptage_type_categories = df_conso_explo['PrimaryPropertyType'].value_counts()\n",
    "plt.figure(figsize=(12,8))\n",
    "ax=sns.barplot(x=comptage_type_categories.values,y=comptage_type_categories .index)\n",
    "ax.set_xlabel(\"Nombre de bâtiments\")\n",
    "title=plt.title(\"Utilisations principales des bâtiments\" \"\\n\", fontsize=14)"
   ]
  },
  {
   "cell_type": "markdown",
   "id": "1946d453",
   "metadata": {},
   "source": [
    "Les bureaux sont la principale utilisation des bâtiments"
   ]
  },
  {
   "cell_type": "markdown",
   "id": "538ddf48",
   "metadata": {},
   "source": [
    "#### YearBuilt"
   ]
  },
  {
   "cell_type": "markdown",
   "id": "043e4cfd",
   "metadata": {},
   "source": [
    "L'année de construction ne nous semble pas pertinent pour l'analyse, il serait plus intéressant de traiter l'âge des bâtiments pour réduire la dispersion des données et lier l'année des relevés. Nous allons donc créer cette nouvelle variable et supprimer l'année de construction :"
   ]
  },
  {
   "cell_type": "code",
   "execution_count": 198,
   "id": "f48d2375",
   "metadata": {},
   "outputs": [],
   "source": [
    "df_conso_explo['BuildingAge'] = df_conso_explo['DataYear'] - df_conso_explo['YearBuilt']\n",
    "df_conso_explo.drop('YearBuilt', axis=1, inplace=True)"
   ]
  },
  {
   "cell_type": "markdown",
   "id": "18f40ff8",
   "metadata": {},
   "source": [
    "Affichons le nombre de bâtiments par âge:"
   ]
  },
  {
   "cell_type": "code",
   "execution_count": 199,
   "id": "cf7edde2",
   "metadata": {},
   "outputs": [
    {
     "data": {
      "image/png": "[encoded data removed]",
      "text/plain": [
       "<Figure size 864x576 with 1 Axes>"
      ]
     },
     "metadata": {
      "needs_background": "light"
     },
     "output_type": "display_data"
    }
   ],
   "source": [
    "fig = plt.figure(figsize=(12,8))\n",
    "ax = sns.histplot(data=df_conso_explo, x='BuildingAge' )\n",
    "ax.set_xlabel(\"Age des bâtiments \")\n",
    "ax.set_ylabel(\"Nombre de bâtiments\")\n",
    "title=plt.title(f\"Nombre de bâtiments par âge\\n\", fontsize=14)"
   ]
  },
  {
   "cell_type": "markdown",
   "id": "3a1e35dc",
   "metadata": {},
   "source": [
    "### Analyse bi-variée"
   ]
  },
  {
   "cell_type": "markdown",
   "id": "dbcc2065",
   "metadata": {},
   "source": [
    "#### Features numériques"
   ]
  },
  {
   "cell_type": "markdown",
   "id": "6bee2695",
   "metadata": {},
   "source": [
    "Réalisons une analyse de la corrélation linéaire entre les variables quantitatives:"
   ]
  },
  {
   "cell_type": "code",
   "execution_count": 200,
   "id": "6a0b9444",
   "metadata": {
    "scrolled": true
   },
   "outputs": [
    {
     "data": {
      "image/png": "[encoded data removed]",
      "text/plain": [
       "<Figure size 720x720 with 2 Axes>"
      ]
     },
     "metadata": {
      "needs_background": "light"
     },
     "output_type": "display_data"
    }
   ],
   "source": [
    "corr = df_conso_explo.select_dtypes(include = ['float64', 'int64']).corr() \n",
    "plt.figure(figsize=(10, 10))\n",
    "\n",
    "sns.heatmap(corr[(corr >= 0.5) | (corr <= -0.5)], \n",
    "            cmap='viridis', vmax=1.0, vmin=-1.0, linewidths=0.1,\n",
    "            annot=True, annot_kws={\"size\": 8}, square=True);"
   ]
  },
  {
   "cell_type": "markdown",
   "id": "7feaea7a",
   "metadata": {},
   "source": [
    "  Affichons les paires de variables ayant un coefficient de corrélation de Pearson supérieur à 0.7 :"
   ]
  },
  {
   "cell_type": "code",
   "execution_count": 201,
   "id": "833c2536",
   "metadata": {},
   "outputs": [
    {
     "data": {
      "text/html": [
       "<div>\n",
       "<style scoped>\n",
       "    .dataframe tbody tr th:only-of-type {\n",
       "        vertical-align: middle;\n",
       "    }\n",
       "\n",
       "    .dataframe tbody tr th {\n",
       "        vertical-align: top;\n",
       "    }\n",
       "\n",
       "    .dataframe thead th {\n",
       "        text-align: right;\n",
       "    }\n",
       "</style>\n",
       "<table border=\"1\" class=\"dataframe\">\n",
       "  <thead>\n",
       "    <tr style=\"text-align: right;\">\n",
       "      <th></th>\n",
       "      <th>level_0</th>\n",
       "      <th>level_1</th>\n",
       "      <th>corr_coeff</th>\n",
       "    </tr>\n",
       "  </thead>\n",
       "  <tbody>\n",
       "    <tr>\n",
       "      <th>28</th>\n",
       "      <td>PropertyGFATotal</td>\n",
       "      <td>PropertyGFABuilding(s)</td>\n",
       "      <td>0.986334</td>\n",
       "    </tr>\n",
       "    <tr>\n",
       "      <th>26</th>\n",
       "      <td>LargestPropertyUseTypeGFA</td>\n",
       "      <td>PropertyGFABuilding(s)</td>\n",
       "      <td>0.971606</td>\n",
       "    </tr>\n",
       "    <tr>\n",
       "      <th>24</th>\n",
       "      <td>LargestPropertyUseTypeGFA</td>\n",
       "      <td>PropertyGFATotal</td>\n",
       "      <td>0.966365</td>\n",
       "    </tr>\n",
       "    <tr>\n",
       "      <th>22</th>\n",
       "      <td>SiteEnergyUse(kBtu)</td>\n",
       "      <td>Electricity(kBtu)</td>\n",
       "      <td>0.951415</td>\n",
       "    </tr>\n",
       "    <tr>\n",
       "      <th>20</th>\n",
       "      <td>SiteEUI(kBtu/sf)</td>\n",
       "      <td>SourceEUI(kBtu/sf)</td>\n",
       "      <td>0.951176</td>\n",
       "    </tr>\n",
       "    <tr>\n",
       "      <th>18</th>\n",
       "      <td>SiteEnergyUse(kBtu)</td>\n",
       "      <td>TotalGHGEmissions</td>\n",
       "      <td>0.865495</td>\n",
       "    </tr>\n",
       "    <tr>\n",
       "      <th>16</th>\n",
       "      <td>LargestPropertyUseTypeGFA</td>\n",
       "      <td>Electricity(kBtu)</td>\n",
       "      <td>0.831161</td>\n",
       "    </tr>\n",
       "    <tr>\n",
       "      <th>14</th>\n",
       "      <td>PropertyGFABuilding(s)</td>\n",
       "      <td>Electricity(kBtu)</td>\n",
       "      <td>0.825201</td>\n",
       "    </tr>\n",
       "    <tr>\n",
       "      <th>12</th>\n",
       "      <td>PropertyGFATotal</td>\n",
       "      <td>Electricity(kBtu)</td>\n",
       "      <td>0.815411</td>\n",
       "    </tr>\n",
       "    <tr>\n",
       "      <th>10</th>\n",
       "      <td>SiteEnergyUse(kBtu)</td>\n",
       "      <td>LargestPropertyUseTypeGFA</td>\n",
       "      <td>0.802979</td>\n",
       "    </tr>\n",
       "    <tr>\n",
       "      <th>8</th>\n",
       "      <td>SiteEnergyUse(kBtu)</td>\n",
       "      <td>PropertyGFABuilding(s)</td>\n",
       "      <td>0.785152</td>\n",
       "    </tr>\n",
       "    <tr>\n",
       "      <th>6</th>\n",
       "      <td>PropertyGFATotal</td>\n",
       "      <td>SiteEnergyUse(kBtu)</td>\n",
       "      <td>0.767481</td>\n",
       "    </tr>\n",
       "    <tr>\n",
       "      <th>4</th>\n",
       "      <td>TotalGHGEmissions</td>\n",
       "      <td>SteamUse(kBtu)</td>\n",
       "      <td>0.714093</td>\n",
       "    </tr>\n",
       "    <tr>\n",
       "      <th>2</th>\n",
       "      <td>SiteEUI(kBtu/sf)</td>\n",
       "      <td>GHGEmissionsIntensity</td>\n",
       "      <td>0.707848</td>\n",
       "    </tr>\n",
       "    <tr>\n",
       "      <th>0</th>\n",
       "      <td>NaturalGas(kBtu)</td>\n",
       "      <td>TotalGHGEmissions</td>\n",
       "      <td>0.704192</td>\n",
       "    </tr>\n",
       "  </tbody>\n",
       "</table>\n",
       "</div>"
      ],
      "text/plain": [
       "                      level_0                    level_1  corr_coeff\n",
       "28           PropertyGFATotal     PropertyGFABuilding(s)    0.986334\n",
       "26  LargestPropertyUseTypeGFA     PropertyGFABuilding(s)    0.971606\n",
       "24  LargestPropertyUseTypeGFA           PropertyGFATotal    0.966365\n",
       "22        SiteEnergyUse(kBtu)          Electricity(kBtu)    0.951415\n",
       "20           SiteEUI(kBtu/sf)         SourceEUI(kBtu/sf)    0.951176\n",
       "18        SiteEnergyUse(kBtu)          TotalGHGEmissions    0.865495\n",
       "16  LargestPropertyUseTypeGFA          Electricity(kBtu)    0.831161\n",
       "14     PropertyGFABuilding(s)          Electricity(kBtu)    0.825201\n",
       "12           PropertyGFATotal          Electricity(kBtu)    0.815411\n",
       "10        SiteEnergyUse(kBtu)  LargestPropertyUseTypeGFA    0.802979\n",
       "8         SiteEnergyUse(kBtu)     PropertyGFABuilding(s)    0.785152\n",
       "6            PropertyGFATotal        SiteEnergyUse(kBtu)    0.767481\n",
       "4           TotalGHGEmissions             SteamUse(kBtu)    0.714093\n",
       "2            SiteEUI(kBtu/sf)      GHGEmissionsIntensity    0.707848\n",
       "0            NaturalGas(kBtu)          TotalGHGEmissions    0.704192"
      ]
     },
     "execution_count": 201,
     "metadata": {},
     "output_type": "execute_result"
    }
   ],
   "source": [
    "threshold = 0.7\n",
    "corr_pairs = corr.unstack().sort_values(kind=\"quicksort\")\n",
    "strong_corr = (pd.DataFrame(corr_pairs[(abs(corr_pairs) > threshold)])\n",
    "               .reset_index().rename(columns={0:'corr_coeff'}))\n",
    "strong_corr = strong_corr[(strong_corr.index%2 == 0) & (strong_corr['level_0'] != strong_corr['level_1'])]\n",
    "strong_corr.sort_values('corr_coeff', ascending=False)"
   ]
  },
  {
   "cell_type": "markdown",
   "id": "42fe6c63",
   "metadata": {},
   "source": [
    "Nous observons de fortes corrélations  entre :\n",
    "\n",
    "- PropertyGFATotal et PropertyGFABuilding(s) / LargestPropertyUseTypeGFA\n",
    "- PropertyGBABuilding(s) et LargestPropertyUseTypeGFA\n",
    "- SiteEnergyUse(kBtu) et Electricity(kBtu)\t\n",
    "- SiteEUI(kBtu/sf) et SourceEUI(kBtu/sf)\t\n",
    "- TotalGHEmissions et SiteEnergyUse(kBtu)\n",
    "\n",
    "Les variables de consommation d'énergie sont corrélées linéarement en géneral entre elles et aussi aux principales utilisations et surfaces des bâtiments."
   ]
  },
  {
   "cell_type": "markdown",
   "id": "8b6d77ee",
   "metadata": {},
   "source": [
    "On peut observer que les variables suffixées GFA présentent de fortes corrélations avec plusieurs autres variables. Nous allons donc créer de nouvelles variables pour tenter de gommer ces corrélations linéaires :"
   ]
  },
  {
   "cell_type": "code",
   "execution_count": 202,
   "id": "4ac87378",
   "metadata": {},
   "outputs": [],
   "source": [
    "df_conso_explo['GFAParkingRatio'] = df_conso_explo['PropertyGFAParking']/df_conso_explo['PropertyGFATotal']\n",
    "df_conso_explo['GFABuildingRatio'] = df_conso_explo['PropertyGFABuilding(s)']/df_conso_explo['PropertyGFATotal']\n"
   ]
  },
  {
   "cell_type": "markdown",
   "id": "c87b9cde",
   "metadata": {},
   "source": [
    "Supprimons les features suffixées GFA non utiles:"
   ]
  },
  {
   "cell_type": "code",
   "execution_count": 203,
   "id": "ec6dddc4",
   "metadata": {},
   "outputs": [],
   "source": [
    "df_conso_explo.drop(['LargestPropertyUseTypeGFA','SecondLargestPropertyUseTypeGFA', 'SecondLargestPropertyUseType',\n",
    "         'ThirdLargestPropertyUseTypeGFA','ThirdLargestPropertyUseType','PropertyGFAParking',\n",
    "           'PropertyGFABuilding(s)'],\n",
    "         axis=1, inplace=True)"
   ]
  },
  {
   "cell_type": "markdown",
   "id": "559fb718",
   "metadata": {},
   "source": [
    "Vérifions l'impact de ces feature engineering sur la matrice des corrélations linéaires :"
   ]
  },
  {
   "cell_type": "code",
   "execution_count": 204,
   "id": "4f516a42",
   "metadata": {},
   "outputs": [
    {
     "data": {
      "image/png": "[encoded data removed]",
      "text/plain": [
       "<Figure size 720x720 with 2 Axes>"
      ]
     },
     "metadata": {
      "needs_background": "light"
     },
     "output_type": "display_data"
    }
   ],
   "source": [
    "corr = df_conso_explo.select_dtypes(include = ['float64', 'int64']).corr() \n",
    "plt.figure(figsize=(10, 10))\n",
    "\n",
    "sns.heatmap(corr[(corr >= 0.5) | (corr <= -0.5)], \n",
    "            cmap='viridis', vmax=1.0, vmin=-1.0, linewidths=0.1,\n",
    "            annot=True, annot_kws={\"size\": 8}, square=True);"
   ]
  },
  {
   "cell_type": "code",
   "execution_count": 205,
   "id": "5b6fb1c3",
   "metadata": {},
   "outputs": [
    {
     "data": {
      "text/html": [
       "<div>\n",
       "<style scoped>\n",
       "    .dataframe tbody tr th:only-of-type {\n",
       "        vertical-align: middle;\n",
       "    }\n",
       "\n",
       "    .dataframe tbody tr th {\n",
       "        vertical-align: top;\n",
       "    }\n",
       "\n",
       "    .dataframe thead th {\n",
       "        text-align: right;\n",
       "    }\n",
       "</style>\n",
       "<table border=\"1\" class=\"dataframe\">\n",
       "  <thead>\n",
       "    <tr style=\"text-align: right;\">\n",
       "      <th></th>\n",
       "      <th>level_0</th>\n",
       "      <th>level_1</th>\n",
       "      <th>corr_coeff</th>\n",
       "    </tr>\n",
       "  </thead>\n",
       "  <tbody>\n",
       "    <tr>\n",
       "      <th>16</th>\n",
       "      <td>SiteEnergyUse(kBtu)</td>\n",
       "      <td>Electricity(kBtu)</td>\n",
       "      <td>0.951415</td>\n",
       "    </tr>\n",
       "    <tr>\n",
       "      <th>14</th>\n",
       "      <td>SourceEUI(kBtu/sf)</td>\n",
       "      <td>SiteEUI(kBtu/sf)</td>\n",
       "      <td>0.951176</td>\n",
       "    </tr>\n",
       "    <tr>\n",
       "      <th>12</th>\n",
       "      <td>SiteEnergyUse(kBtu)</td>\n",
       "      <td>TotalGHGEmissions</td>\n",
       "      <td>0.865495</td>\n",
       "    </tr>\n",
       "    <tr>\n",
       "      <th>10</th>\n",
       "      <td>Electricity(kBtu)</td>\n",
       "      <td>PropertyGFATotal</td>\n",
       "      <td>0.815411</td>\n",
       "    </tr>\n",
       "    <tr>\n",
       "      <th>8</th>\n",
       "      <td>SiteEnergyUse(kBtu)</td>\n",
       "      <td>PropertyGFATotal</td>\n",
       "      <td>0.767481</td>\n",
       "    </tr>\n",
       "    <tr>\n",
       "      <th>6</th>\n",
       "      <td>SteamUse(kBtu)</td>\n",
       "      <td>TotalGHGEmissions</td>\n",
       "      <td>0.714093</td>\n",
       "    </tr>\n",
       "    <tr>\n",
       "      <th>4</th>\n",
       "      <td>GHGEmissionsIntensity</td>\n",
       "      <td>SiteEUI(kBtu/sf)</td>\n",
       "      <td>0.707848</td>\n",
       "    </tr>\n",
       "    <tr>\n",
       "      <th>2</th>\n",
       "      <td>NaturalGas(kBtu)</td>\n",
       "      <td>TotalGHGEmissions</td>\n",
       "      <td>0.704192</td>\n",
       "    </tr>\n",
       "    <tr>\n",
       "      <th>0</th>\n",
       "      <td>GFAParkingRatio</td>\n",
       "      <td>GFABuildingRatio</td>\n",
       "      <td>-0.980292</td>\n",
       "    </tr>\n",
       "  </tbody>\n",
       "</table>\n",
       "</div>"
      ],
      "text/plain": [
       "                  level_0            level_1  corr_coeff\n",
       "16    SiteEnergyUse(kBtu)  Electricity(kBtu)    0.951415\n",
       "14     SourceEUI(kBtu/sf)   SiteEUI(kBtu/sf)    0.951176\n",
       "12    SiteEnergyUse(kBtu)  TotalGHGEmissions    0.865495\n",
       "10      Electricity(kBtu)   PropertyGFATotal    0.815411\n",
       "8     SiteEnergyUse(kBtu)   PropertyGFATotal    0.767481\n",
       "6          SteamUse(kBtu)  TotalGHGEmissions    0.714093\n",
       "4   GHGEmissionsIntensity   SiteEUI(kBtu/sf)    0.707848\n",
       "2        NaturalGas(kBtu)  TotalGHGEmissions    0.704192\n",
       "0         GFAParkingRatio   GFABuildingRatio   -0.980292"
      ]
     },
     "execution_count": 205,
     "metadata": {},
     "output_type": "execute_result"
    }
   ],
   "source": [
    "threshold = 0.7\n",
    "corr_pairs = corr.unstack().sort_values(kind=\"quicksort\")\n",
    "strong_corr = (pd.DataFrame(corr_pairs[(abs(corr_pairs) > threshold)])\n",
    "               .reset_index().rename(columns={0:'corr_coeff'}))\n",
    "strong_corr = strong_corr[(strong_corr.index%2 == 0) & (strong_corr['level_0'] != strong_corr['level_1'])]\n",
    "strong_corr.sort_values('corr_coeff', ascending=False)"
   ]
  },
  {
   "cell_type": "markdown",
   "id": "939e1123",
   "metadata": {},
   "source": [
    "#### SiteEnergyUse(kBtu)  & BuildingType"
   ]
  },
  {
   "cell_type": "markdown",
   "id": "a97a9a85",
   "metadata": {},
   "source": [
    "Analysons la consommation d'énergie par type d'habitations:"
   ]
  },
  {
   "cell_type": "code",
   "execution_count": 206,
   "id": "be92cefd",
   "metadata": {},
   "outputs": [
    {
     "data": {
      "image/png": "[encoded data removed]",
      "text/plain": [
       "<Figure size 864x576 with 1 Axes>"
      ]
     },
     "metadata": {
      "needs_background": "light"
     },
     "output_type": "display_data"
    }
   ],
   "source": [
    "ordre_energy = df_conso_explo.groupby('BuildingType')['SiteEnergyUse(kBtu)'].median().sort_values().index\n",
    "plt.figure(figsize=(12,8))\n",
    "ax=sns.boxplot(x=\"BuildingType\", y=\"SiteEnergyUse(kBtu)\", showfliers=False,order=ordre_energy , \n",
    "            data=df_conso_explo)\n",
    "ax.set_xlabel(\"Types de bâtiments\")\n",
    "ax.set_ylabel(\"Consommation d'energie\")\n",
    "title=plt.title(\"Consommation d'energie par type de bâtiments\" \"\\n\", fontsize=14)\n"
   ]
  },
  {
   "cell_type": "markdown",
   "id": "fc95b7b9",
   "metadata": {},
   "source": [
    "Les campus en moyenne ont la plus grande consommation d'énergie."
   ]
  },
  {
   "cell_type": "markdown",
   "id": "d9612010",
   "metadata": {},
   "source": [
    "#### SiteEnergyUse(kBtu) & Neighborhood"
   ]
  },
  {
   "cell_type": "markdown",
   "id": "7b803dd3",
   "metadata": {},
   "source": [
    "Afin de gommer les erreurs de formatage sur les noms des quartiers, nous mettons ces derniers en miniscule:"
   ]
  },
  {
   "cell_type": "code",
   "execution_count": 207,
   "id": "e66e66dd",
   "metadata": {},
   "outputs": [],
   "source": [
    "df_conso_explo['Neighborhood']= df_conso_explo['Neighborhood'].str.lower()"
   ]
  },
  {
   "cell_type": "markdown",
   "id": "ab78b1f8",
   "metadata": {},
   "source": [
    "Analysons la consommation d'énergie par quartier:"
   ]
  },
  {
   "cell_type": "code",
   "execution_count": 208,
   "id": "2f5e7775",
   "metadata": {},
   "outputs": [
    {
     "data": {
      "image/png": "[encoded data removed]",
      "text/plain": [
       "<Figure size 864x576 with 1 Axes>"
      ]
     },
     "metadata": {
      "needs_background": "light"
     },
     "output_type": "display_data"
    }
   ],
   "source": [
    "ordre_energy = df_conso_explo.groupby('Neighborhood')['SiteEnergyUse(kBtu)'].median().sort_values().index\n",
    "plt.figure(figsize=(12,8))\n",
    "ax=sns.boxplot(x=\"SiteEnergyUse(kBtu)\", y=\"Neighborhood\", showfliers=False,order=ordre_energy , \n",
    "            data=df_conso_explo)\n",
    "ax.set_xlabel(\"Consommation d'energie\")\n",
    "ax.set_ylabel(\"Quartiers\")\n",
    "title=plt.title(\"Consommation d'energie par quartier\" \"\\n\", fontsize=14)"
   ]
  },
  {
   "cell_type": "markdown",
   "id": "ce085946",
   "metadata": {},
   "source": [
    "La consommation d'energie est la plus importante au centre ville."
   ]
  },
  {
   "cell_type": "markdown",
   "id": "d2b2be17",
   "metadata": {},
   "source": [
    "#### SiteEnergyUse(kBtu)& PrimaryPropertyType"
   ]
  },
  {
   "cell_type": "markdown",
   "id": "4e355d2b",
   "metadata": {},
   "source": [
    "Analysons la consommation d'énergie dans la principale utilisation des bâtiments:"
   ]
  },
  {
   "cell_type": "code",
   "execution_count": 209,
   "id": "a93de6d1",
   "metadata": {},
   "outputs": [
    {
     "data": {
      "image/png": "[encoded data removed]",
      "text/plain": [
       "<Figure size 864x576 with 1 Axes>"
      ]
     },
     "metadata": {
      "needs_background": "light"
     },
     "output_type": "display_data"
    }
   ],
   "source": [
    "ordre_energy = df_conso_explo.groupby('PrimaryPropertyType')['SiteEnergyUse(kBtu)'].median().sort_values().index\n",
    "plt.figure(figsize=(12,8))\n",
    "ax=sns.boxplot(x=\"SiteEnergyUse(kBtu)\", y=\"PrimaryPropertyType\", showfliers=False,order=ordre_energy , \n",
    "            data=df_conso_explo)\n",
    "ax.set_xlabel(\"Consommation d'energie\")\n",
    "ax.set_ylabel(\"Utilisation principale des bâtiments\")\n",
    "title=plt.title(\"Consommation d'energie par utilisation principale des bâtiments\" \"\\n\", fontsize=14)"
   ]
  },
  {
   "cell_type": "markdown",
   "id": "bc871c82",
   "metadata": {},
   "source": [
    "Les laboratoires,les etablissements de santé et les bureaux sont les lieux à plus forte consommation d'énergie en moyenne."
   ]
  },
  {
   "cell_type": "markdown",
   "id": "f2de51fc",
   "metadata": {},
   "source": [
    "### Données pour la prédiction "
   ]
  },
  {
   "cell_type": "code",
   "execution_count": 210,
   "id": "08cce121",
   "metadata": {},
   "outputs": [],
   "source": [
    "df_conso_pred=df_conso_explo.copy()"
   ]
  },
  {
   "cell_type": "markdown",
   "id": "165cc4f9",
   "metadata": {},
   "source": [
    "La taile du jeu de données est:"
   ]
  },
  {
   "cell_type": "code",
   "execution_count": 211,
   "id": "60f99f0d",
   "metadata": {},
   "outputs": [
    {
     "name": "stdout",
     "output_type": "stream",
     "text": [
      "Le jeu de données compte à présent 3318 lignes et 33 variables\n"
     ]
    }
   ],
   "source": [
    "print (\"Le jeu de données compte à présent {} lignes et {} variables\".format(df_conso_pred.shape[0], df_conso_pred.shape[1]))"
   ]
  },
  {
   "cell_type": "markdown",
   "id": "cdbf63ae",
   "metadata": {},
   "source": [
    "Les colonnes restantes sont:"
   ]
  },
  {
   "cell_type": "code",
   "execution_count": 212,
   "id": "1609370d",
   "metadata": {
    "scrolled": true
   },
   "outputs": [
    {
     "data": {
      "text/plain": [
       "Index(['OSEBuildingID', 'DataYear', 'BuildingType', 'PrimaryPropertyType',\n",
       "       'PropertyName', 'TaxParcelIdentificationNumber', 'CouncilDistrictCode',\n",
       "       'Neighborhood', 'NumberofBuildings', 'NumberofFloors',\n",
       "       'PropertyGFATotal', 'ListOfAllPropertyUseTypes',\n",
       "       'LargestPropertyUseType', 'ENERGYSTARScore', 'SiteEUI(kBtu/sf)',\n",
       "       'SourceEUI(kBtu/sf)', 'SiteEnergyUse(kBtu)', 'SteamUse(kBtu)',\n",
       "       'Electricity(kBtu)', 'NaturalGas(kBtu)', 'TotalGHGEmissions',\n",
       "       'GHGEmissionsIntensity', 'DefaultData', 'ComplianceStatus', 'Latitude',\n",
       "       'Longitude', 'Address', 'City', 'State', 'ZipCode', 'BuildingAge',\n",
       "       'GFAParkingRatio', 'GFABuildingRatio'],\n",
       "      dtype='object')"
      ]
     },
     "execution_count": 212,
     "metadata": {},
     "output_type": "execute_result"
    }
   ],
   "source": [
    "df_conso_pred.columns"
   ]
  },
  {
   "cell_type": "markdown",
   "id": "d43cd532",
   "metadata": {},
   "source": [
    "Eliminons les features non pas utiles à notre problématique:"
   ]
  },
  {
   "cell_type": "code",
   "execution_count": 213,
   "id": "4615eb32",
   "metadata": {},
   "outputs": [],
   "source": [
    "liste_drop=['OSEBuildingID', 'DataYear','PropertyName', 'TaxParcelIdentificationNumber','DefaultData','CouncilDistrictCode',\n",
    "            'ListOfAllPropertyUseTypes', 'ComplianceStatus','Latitude', 'Longitude','Address','City', 'State','ZipCode']"
   ]
  },
  {
   "cell_type": "code",
   "execution_count": 214,
   "id": "82667ae4",
   "metadata": {},
   "outputs": [],
   "source": [
    "df_conso_pred=df_conso_pred.drop(columns=liste_drop)"
   ]
  },
  {
   "cell_type": "markdown",
   "id": "c21d41c5",
   "metadata": {},
   "source": [
    "Eliminons aussi les features liées à la consommation d'énergie car le but de notre travail est leur prediction:"
   ]
  },
  {
   "cell_type": "code",
   "execution_count": 215,
   "id": "b1e0a4cc",
   "metadata": {},
   "outputs": [],
   "source": [
    "liste_conso=['SiteEUI(kBtu/sf)','SourceEUI(kBtu/sf)','SteamUse(kBtu)','Electricity(kBtu)', 'NaturalGas(kBtu)',\n",
    "            'GHGEmissionsIntensity']"
   ]
  },
  {
   "cell_type": "code",
   "execution_count": 216,
   "id": "d5f4667f",
   "metadata": {},
   "outputs": [],
   "source": [
    "df_conso_pred=df_conso_pred.drop(columns=liste_conso)"
   ]
  },
  {
   "cell_type": "markdown",
   "id": "4ef50849",
   "metadata": {},
   "source": [
    "La nouvelle taille est:"
   ]
  },
  {
   "cell_type": "code",
   "execution_count": 217,
   "id": "3ff44970",
   "metadata": {},
   "outputs": [
    {
     "name": "stdout",
     "output_type": "stream",
     "text": [
      "Le jeu de données compte à présent 3318 lignes et 13 variables\n"
     ]
    }
   ],
   "source": [
    "print (\"Le jeu de données compte à présent {} lignes et {} variables\".format(df_conso_pred.shape[0], df_conso_pred.shape[1]))"
   ]
  },
  {
   "cell_type": "markdown",
   "id": "63d2e96a",
   "metadata": {},
   "source": [
    "Les features retenues sont:"
   ]
  },
  {
   "cell_type": "code",
   "execution_count": 218,
   "id": "f0ea6915",
   "metadata": {},
   "outputs": [
    {
     "data": {
      "text/plain": [
       "Index(['BuildingType', 'PrimaryPropertyType', 'Neighborhood',\n",
       "       'NumberofBuildings', 'NumberofFloors', 'PropertyGFATotal',\n",
       "       'LargestPropertyUseType', 'ENERGYSTARScore', 'SiteEnergyUse(kBtu)',\n",
       "       'TotalGHGEmissions', 'BuildingAge', 'GFAParkingRatio',\n",
       "       'GFABuildingRatio'],\n",
       "      dtype='object')"
      ]
     },
     "execution_count": 218,
     "metadata": {},
     "output_type": "execute_result"
    }
   ],
   "source": [
    "fea_pred=df_conso_pred.columns\n",
    "fea_pred"
   ]
  },
  {
   "cell_type": "markdown",
   "id": "dbb0aab9",
   "metadata": {},
   "source": [
    "#### Separation des données"
   ]
  },
  {
   "cell_type": "markdown",
   "id": "912898fb",
   "metadata": {},
   "source": [
    "Séparons les données:"
   ]
  },
  {
   "cell_type": "code",
   "execution_count": 219,
   "id": "7098f35b",
   "metadata": {},
   "outputs": [],
   "source": [
    "X =  df_conso_pred.drop(columns=['TotalGHGEmissions','SiteEnergyUse(kBtu)'])\n",
    "Y =  df_conso_pred[['TotalGHGEmissions','SiteEnergyUse(kBtu)']]"
   ]
  },
  {
   "cell_type": "markdown",
   "id": "c2691d08",
   "metadata": {},
   "source": [
    "Créons un file csv pour la partie prediction des données:"
   ]
  },
  {
   "cell_type": "code",
   "execution_count": 220,
   "id": "6d188d7b",
   "metadata": {},
   "outputs": [],
   "source": [
    "X.to_csv('X.csv',index = False)\n",
    "Y.to_csv('Y.csv',index = False)"
   ]
  }
 ],
 "metadata": {
  "kernelspec": {
   "display_name": "Python 3 (ipykernel)",
   "language": "python",
   "name": "python3"
  },
  "language_info": {
   "codemirror_mode": {
    "name": "ipython",
    "version": 3
   },
   "file_extension": ".py",
   "mimetype": "text/x-python",
   "name": "python",
   "nbconvert_exporter": "python",
   "pygments_lexer": "ipython3",
   "version": "3.9.12"
  }
 },
 "nbformat": 4,
 "nbformat_minor": 5
}
